{
 "cells": [
  {
   "cell_type": "markdown",
   "metadata": {},
   "source": [
    "<h1>Widget Pricing</h1>"
   ]
  },
  {
   "cell_type": "markdown",
   "metadata": {},
   "source": [
    "<a href='https://fivethirtyeight.com/features/how-many-sets-of-cards-can-you-find/'>Source</a>"
   ]
  },
  {
   "cell_type": "markdown",
   "metadata": {},
   "source": [
    "<p>A manager is trying to produce sales of his company’s widget, so he instructs his team to hold a sale every morning, lowering the price of the widget by 10 percent. However, he gives very specific instructions as to what should happen in the afternoon: Increase the price by 10 percent from the sale price, with the (incorrect) idea that it would return it to the original price. The team follows his instructions quite literally, lowering and then raising the price by 10 percent every day.\n",
    "<br><br>\n",
    "After N days, the manager walks through the store in the evening, horrified to see that the widgets are marked <strong>more than 50 percent off</strong> of their original price. What is the smallest possible value of N?</p>"
   ]
  },
  {
   "cell_type": "markdown",
   "metadata": {},
   "source": [
    "<h2>Simplify &amp; Sovle for $x$</h2>"
   ]
  },
  {
   "cell_type": "markdown",
   "metadata": {},
   "source": [
    "<p>Mathematically we can simplify and solve for $x$:</p>\n",
    "$$.5 = (1\\times.9\\times1.1)^x$$<br>\n",
    "$$log(.5) = x\\cdot{log(.99)}$$<br>\n",
    "$$\\frac {log(.5)}{log(.99)} = x$$<br>\n",
    "$$x = 68.9676\\space days$$ "
   ]
  },
  {
   "cell_type": "code",
   "execution_count": 1,
   "metadata": {},
   "outputs": [],
   "source": [
    "import matplotlib.pylab as plt"
   ]
  },
  {
   "cell_type": "code",
   "execution_count": 2,
   "metadata": {},
   "outputs": [],
   "source": [
    "import numpy as np"
   ]
  },
  {
   "cell_type": "code",
   "execution_count": 3,
   "metadata": {},
   "outputs": [
    {
     "data": {
      "text/plain": [
       "68.96756393652844"
      ]
     },
     "execution_count": 3,
     "metadata": {},
     "output_type": "execute_result"
    }
   ],
   "source": [
    "np.log10(.5)/np.log10(.99)"
   ]
  },
  {
   "cell_type": "markdown",
   "metadata": {},
   "source": [
    "<p>If the markdowns and markups happened using fractional cents then the widgets price would exactly equal $50\\%$ of it's original in 68.97 days, therefore the first day the widget would be marked more than $50\\%$ off is the end of the 69th day</p>"
   ]
  },
  {
   "cell_type": "markdown",
   "metadata": {},
   "source": [
    "<h2>Two-digit rounding</h2>"
   ]
  },
  {
   "cell_type": "markdown",
   "metadata": {},
   "source": [
    "<p>In the real world people cannot pay for widgets with fractional cents. Therefore the problem needs constraint to two decimal places. This significantly alters the behavior of the maximum and minimum number of days for the price to converge at <strong>more than 50 percent off</strong>.</p>"
   ]
  },
  {
   "cell_type": "code",
   "execution_count": 102,
   "metadata": {},
   "outputs": [],
   "source": [
    "# ensures that the price is always rounded to 2 decimal places\n",
    "def price_adjustment(x):\n",
    "    discount = round(x * .1, 2)\n",
    "    sale_price = round(x - discount, 2)\n",
    "    add = round(sale_price * .1, 2)\n",
    "    new_price = round(sale_price + add,2)\n",
    "    return new_price"
   ]
  },
  {
   "cell_type": "code",
   "execution_count": 167,
   "metadata": {},
   "outputs": [],
   "source": [
    "# checks to see if the current price is less than or equal to 50 percent of the original price\n",
    "def price_check(original_price, current_price):\n",
    "    if current_price >= round(.5*original_price, 2):\n",
    "        return True\n",
    "    else:\n",
    "        return False"
   ]
  },
  {
   "cell_type": "markdown",
   "metadata": {},
   "source": [
    "<h3>Evaluate widget prices</h3>"
   ]
  },
  {
   "cell_type": "code",
   "execution_count": 201,
   "metadata": {},
   "outputs": [],
   "source": [
    "start_price = 1\n",
    "end_price = 15"
   ]
  },
  {
   "cell_type": "code",
   "execution_count": 202,
   "metadata": {},
   "outputs": [],
   "source": [
    "# evaluate each potential widget price between 1.01 and 100, for thoroughness\n",
    "prices = np.linspace(start_price, end_price, (end_price-start_price)*100+1)"
   ]
  },
  {
   "cell_type": "code",
   "execution_count": 203,
   "metadata": {},
   "outputs": [
    {
     "data": {
      "text/plain": [
       "array([ 1.  ,  1.01,  1.02, ..., 14.98, 14.99, 15.  ])"
      ]
     },
     "execution_count": 203,
     "metadata": {},
     "output_type": "execute_result"
    }
   ],
   "source": [
    "prices"
   ]
  },
  {
   "cell_type": "code",
   "execution_count": 204,
   "metadata": {},
   "outputs": [],
   "source": [
    "# initialize a place to store results\n",
    "store = {}\n",
    "store_prices = {}\n",
    "store_fail = {}\n",
    "\n",
    "# iterate through each widget price option\n",
    "for price in prices:\n",
    "    new_price = price_adjustment(price)\n",
    "    eod_prices = []\n",
    "    while price_check(price, new_price):\n",
    "        eod_prices.append(new_price)\n",
    "        new_price = price_adjustment(new_price)\n",
    "        if new_price == eod_prices[-1:]:  # if new price equals last price, stop\n",
    "            store_fail[price] = [len(eod_prices), eod_prices]\n",
    "            break\n",
    "    eod_prices.append(new_price)\n",
    "    if eod_prices[-1:] <= round(.5 * price, 2):\n",
    "        store[price] = len(eod_prices)\n",
    "        store_prices[price] = eod_prices"
   ]
  },
  {
   "cell_type": "code",
   "execution_count": 205,
   "metadata": {},
   "outputs": [],
   "source": [
    "lists = sorted(store.items())\n",
    "x, y = zip(*lists)"
   ]
  },
  {
   "cell_type": "code",
   "execution_count": 206,
   "metadata": {},
   "outputs": [
    {
     "data": {
      "text/plain": [
       "69"
      ]
     },
     "execution_count": 206,
     "metadata": {},
     "output_type": "execute_result"
    }
   ],
   "source": [
    "min(y)"
   ]
  },
  {
   "cell_type": "code",
   "execution_count": 209,
   "metadata": {},
   "outputs": [
    {
     "data": {
      "image/png": "[encoded data removed]",
      "text/plain": [
       "<Figure size 432x288 with 1 Axes>"
      ]
     },
     "metadata": {
      "needs_background": "light"
     },
     "output_type": "display_data"
    }
   ],
   "source": [
    "plt.plot(x, y)\n",
    "plt.show()"
   ]
  },
  {
   "cell_type": "markdown",
   "metadata": {},
   "source": [
    "<h3>Prices can't converge if 50 percent is less than or equal to $0.84</h3>"
   ]
  },
  {
   "cell_type": "code",
   "execution_count": 211,
   "metadata": {},
   "outputs": [
    {
     "data": {
      "text/plain": [
       "dict_keys([1.0, 1.01, 1.02, 1.03, 1.04, 1.05, 1.06, 1.07, 1.08, 1.09, 1.1, 1.11, 1.12, 1.13, 1.1400000000000001, 1.15, 1.16, 1.17, 1.18, 1.19, 1.2, 1.21, 1.22, 1.23, 1.24, 1.25, 1.26, 1.27, 1.28, 1.29, 1.3, 1.31, 1.32, 1.33, 1.34, 1.35, 1.3599999999999999, 1.37, 1.38, 1.3900000000000001, 1.4, 1.4100000000000001, 1.42, 1.43, 1.44, 1.45, 1.46, 1.47, 1.48, 1.49, 1.5, 1.51, 1.52, 1.53, 1.54, 1.55, 1.56, 1.57, 1.58, 1.5899999999999999, 1.6, 1.6099999999999999, 1.62, 1.63, 1.6400000000000001, 1.65, 1.6600000000000001, 1.67, 1.6800000000000002, 1.69, 1.7000000000000002])"
      ]
     },
     "execution_count": 211,
     "metadata": {},
     "output_type": "execute_result"
    }
   ],
   "source": [
    "store_fail.keys()"
   ]
  },
  {
   "cell_type": "code",
   "execution_count": 210,
   "metadata": {},
   "outputs": [
    {
     "name": "stdout",
     "output_type": "stream",
     "text": [
      "4.470000000000001 69\n",
      "4.51 69\n",
      "4.65 69\n",
      "4.7 69\n",
      "4.75 69\n",
      "4.79 69\n",
      "4.800000000000001 69\n",
      "4.83 69\n",
      "4.84 69\n",
      "4.87 69\n",
      "4.88 69\n",
      "4.890000000000001 69\n",
      "5.03 69\n",
      "5.07 69\n",
      "5.08 69\n",
      "5.23 69\n",
      "5.2700000000000005 69\n",
      "5.28 69\n",
      "5.3100000000000005 69\n",
      "5.32 69\n",
      "5.33 69\n",
      "5.38 69\n",
      "5.39 69\n",
      "5.43 69\n",
      "5.44 69\n",
      "5.45 69\n",
      "5.47 69\n",
      "5.48 69\n",
      "5.49 69\n",
      "5.5 69\n",
      "5.54 69\n",
      "5.55 69\n",
      "5.5600000000000005 69\n",
      "5.59 69\n",
      "5.6000000000000005 69\n",
      "5.61 69\n",
      "5.66 69\n",
      "5.67 69\n",
      "5.71 69\n",
      "5.72 69\n",
      "5.78 69\n",
      "5.83 69\n",
      "5.95 69\n",
      "6.07 69\n",
      "6.19 69\n",
      "6.26 69\n",
      "6.63 69\n",
      "7.71 69\n",
      "7.79 69\n",
      "7.87 69\n",
      "7.95 69\n",
      "8.030000000000001 69\n",
      "8.11 69\n",
      "8.190000000000001 69\n",
      "8.27 69\n",
      "8.350000000000001 69\n",
      "8.36 69\n",
      "8.43 69\n",
      "8.440000000000001 69\n",
      "8.870000000000001 69\n",
      "9.05 69\n",
      "9.15 69\n",
      "9.23 69\n",
      "9.24 69\n",
      "9.9 69\n",
      "9.99 69\n",
      "10.0 69\n",
      "10.1 69\n",
      "10.19 69\n",
      "10.200000000000001 69\n",
      "10.39 69\n",
      "10.5 69\n",
      "10.59 69\n",
      "10.6 69\n",
      "10.71 69\n",
      "10.82 69\n",
      "11.03 69\n",
      "11.040000000000001 69\n",
      "11.05 69\n",
      "11.15 69\n",
      "11.16 69\n",
      "11.26 69\n",
      "11.27 69\n",
      "11.38 69\n",
      "11.47 69\n",
      "11.48 69\n",
      "11.49 69\n",
      "11.5 69\n",
      "11.59 69\n",
      "11.6 69\n",
      "11.61 69\n",
      "11.700000000000001 69\n",
      "11.71 69\n",
      "11.72 69\n",
      "11.82 69\n",
      "11.83 69\n",
      "11.94 69\n",
      "11.950000000000001 69\n",
      "12.06 69\n",
      "12.07 69\n",
      "12.18 69\n",
      "12.19 69\n",
      "12.3 69\n",
      "12.31 69\n",
      "12.42 69\n",
      "12.43 69\n",
      "12.55 69\n",
      "12.56 69\n",
      "12.67 69\n",
      "12.68 69\n",
      "12.69 69\n",
      "12.790000000000001 69\n",
      "12.8 69\n",
      "12.81 69\n",
      "12.82 69\n",
      "12.94 69\n",
      "12.950000000000001 69\n",
      "13.06 69\n",
      "13.07 69\n",
      "13.08 69\n",
      "13.19 69\n",
      "13.200000000000001 69\n",
      "13.21 69\n",
      "13.31 69\n",
      "13.32 69\n",
      "13.33 69\n",
      "13.34 69\n",
      "13.35 69\n",
      "13.46 69\n",
      "13.47 69\n",
      "13.48 69\n",
      "13.49 69\n",
      "13.59 69\n",
      "13.6 69\n",
      "13.61 69\n",
      "13.620000000000001 69\n",
      "13.71 69\n",
      "13.72 69\n",
      "13.73 69\n",
      "13.74 69\n",
      "13.75 69\n",
      "13.76 69\n",
      "13.86 69\n",
      "13.870000000000001 69\n",
      "13.88 69\n",
      "13.89 69\n",
      "13.9 69\n",
      "13.99 69\n",
      "14.0 69\n",
      "14.01 69\n",
      "14.02 69\n",
      "14.030000000000001 69\n",
      "14.040000000000001 69\n",
      "14.05 69\n",
      "14.11 69\n",
      "14.120000000000001 69\n",
      "14.13 69\n",
      "14.14 69\n",
      "14.15 69\n",
      "14.16 69\n",
      "14.17 69\n",
      "14.18 69\n",
      "14.19 69\n",
      "14.26 69\n",
      "14.27 69\n",
      "14.280000000000001 69\n",
      "14.290000000000001 69\n",
      "14.3 69\n",
      "14.31 69\n",
      "14.32 69\n",
      "14.33 69\n",
      "14.39 69\n",
      "14.4 69\n",
      "14.41 69\n",
      "14.42 69\n",
      "14.43 69\n",
      "14.44 69\n",
      "14.450000000000001 69\n",
      "14.46 69\n",
      "14.47 69\n",
      "14.48 69\n",
      "14.55 69\n",
      "14.56 69\n",
      "14.57 69\n",
      "14.58 69\n",
      "14.59 69\n",
      "14.6 69\n",
      "14.61 69\n",
      "14.620000000000001 69\n",
      "14.700000000000001 69\n",
      "14.71 69\n",
      "14.72 69\n",
      "14.73 69\n",
      "14.74 69\n",
      "14.75 69\n",
      "14.76 69\n",
      "14.77 69\n",
      "14.83 69\n",
      "14.84 69\n",
      "14.85 69\n",
      "14.86 69\n",
      "14.870000000000001 69\n",
      "14.88 69\n",
      "14.89 69\n",
      "14.9 69\n",
      "14.91 69\n",
      "14.92 69\n",
      "14.99 69\n",
      "15.0 69\n"
     ]
    }
   ],
   "source": [
    "lowest_N = []\n",
    "for key, value in store.items():\n",
    "    if value == min(y):\n",
    "        print(key, value)\n",
    "        lowest_N.append(key)"
   ]
  },
  {
   "cell_type": "code",
   "execution_count": 212,
   "metadata": {},
   "outputs": [
    {
     "name": "stdout",
     "output_type": "stream",
     "text": [
      "[4.42, 4.38, 4.33, 4.29, 4.25, 4.2, 4.16, 4.11, 4.07, 4.03, 3.99, 3.95, 3.91, 3.87, 3.83, 3.79, 3.75, 3.71, 3.67, 3.63, 3.6, 3.56, 3.52, 3.49, 3.45, 3.42, 3.39, 3.35, 3.31, 3.28, 3.25, 3.22, 3.19, 3.16, 3.12, 3.09, 3.06, 3.03, 3.0, 2.97, 2.94, 2.91, 2.88, 2.85, 2.82, 2.79, 2.76, 2.73, 2.71, 2.68, 2.65, 2.63, 2.61, 2.59, 2.56, 2.53, 2.51, 2.49, 2.46, 2.43, 2.41, 2.39, 2.37, 2.34, 2.32, 2.3, 2.28, 2.25, 2.23]\n",
      "[4.47, 4.42, 4.38, 4.33, 4.29, 4.25, 4.2, 4.16, 4.11, 4.07, 4.03, 3.99, 3.95, 3.91, 3.87, 3.83, 3.79, 3.75, 3.71, 3.67, 3.63, 3.6, 3.56, 3.52, 3.49, 3.45, 3.42, 3.39, 3.35, 3.31, 3.28, 3.25, 3.22, 3.19, 3.16, 3.12, 3.09, 3.06, 3.03, 3.0, 2.97, 2.94, 2.91, 2.88, 2.85, 2.82, 2.79, 2.76, 2.73, 2.71, 2.68, 2.65, 2.63, 2.61, 2.59, 2.56, 2.53, 2.51, 2.49, 2.46, 2.43, 2.41, 2.39, 2.37, 2.34, 2.32, 2.3, 2.28, 2.25]\n",
      "[4.6, 4.55, 4.5, 4.45, 4.4, 4.36, 4.31, 4.27, 4.22, 4.18, 4.14, 4.1, 4.06, 4.01, 3.97, 3.93, 3.89, 3.85, 3.82, 3.78, 3.74, 3.71, 3.67, 3.63, 3.6, 3.56, 3.52, 3.49, 3.45, 3.42, 3.39, 3.35, 3.31, 3.28, 3.25, 3.22, 3.19, 3.16, 3.12, 3.09, 3.06, 3.03, 3.0, 2.97, 2.94, 2.91, 2.88, 2.85, 2.82, 2.79, 2.76, 2.73, 2.71, 2.68, 2.65, 2.63, 2.61, 2.59, 2.56, 2.53, 2.51, 2.49, 2.46, 2.43, 2.41, 2.39, 2.37, 2.34, 2.32]\n",
      "[4.65, 4.6, 4.55, 4.5, 4.45, 4.4, 4.36, 4.31, 4.27, 4.22, 4.18, 4.14, 4.1, 4.06, 4.01, 3.97, 3.93, 3.89, 3.85, 3.82, 3.78, 3.74, 3.71, 3.67, 3.63, 3.6, 3.56, 3.52, 3.49, 3.45, 3.42, 3.39, 3.35, 3.31, 3.28, 3.25, 3.22, 3.19, 3.16, 3.12, 3.09, 3.06, 3.03, 3.0, 2.97, 2.94, 2.91, 2.88, 2.85, 2.82, 2.79, 2.76, 2.73, 2.71, 2.68, 2.65, 2.63, 2.61, 2.59, 2.56, 2.53, 2.51, 2.49, 2.46, 2.43, 2.41, 2.39, 2.37, 2.34]\n",
      "[4.7, 4.65, 4.6, 4.55, 4.5, 4.45, 4.4, 4.36, 4.31, 4.27, 4.22, 4.18, 4.14, 4.1, 4.06, 4.01, 3.97, 3.93, 3.89, 3.85, 3.82, 3.78, 3.74, 3.71, 3.67, 3.63, 3.6, 3.56, 3.52, 3.49, 3.45, 3.42, 3.39, 3.35, 3.31, 3.28, 3.25, 3.22, 3.19, 3.16, 3.12, 3.09, 3.06, 3.03, 3.0, 2.97, 2.94, 2.91, 2.88, 2.85, 2.82, 2.79, 2.76, 2.73, 2.71, 2.68, 2.65, 2.63, 2.61, 2.59, 2.56, 2.53, 2.51, 2.49, 2.46, 2.43, 2.41, 2.39, 2.37]\n",
      "[4.74, 4.7, 4.65, 4.6, 4.55, 4.5, 4.45, 4.4, 4.36, 4.31, 4.27, 4.22, 4.18, 4.14, 4.1, 4.06, 4.01, 3.97, 3.93, 3.89, 3.85, 3.82, 3.78, 3.74, 3.71, 3.67, 3.63, 3.6, 3.56, 3.52, 3.49, 3.45, 3.42, 3.39, 3.35, 3.31, 3.28, 3.25, 3.22, 3.19, 3.16, 3.12, 3.09, 3.06, 3.03, 3.0, 2.97, 2.94, 2.91, 2.88, 2.85, 2.82, 2.79, 2.76, 2.73, 2.71, 2.68, 2.65, 2.63, 2.61, 2.59, 2.56, 2.53, 2.51, 2.49, 2.46, 2.43, 2.41, 2.39]\n",
      "[4.75, 4.7, 4.65, 4.6, 4.55, 4.5, 4.45, 4.4, 4.36, 4.31, 4.27, 4.22, 4.18, 4.14, 4.1, 4.06, 4.01, 3.97, 3.93, 3.89, 3.85, 3.82, 3.78, 3.74, 3.71, 3.67, 3.63, 3.6, 3.56, 3.52, 3.49, 3.45, 3.42, 3.39, 3.35, 3.31, 3.28, 3.25, 3.22, 3.19, 3.16, 3.12, 3.09, 3.06, 3.03, 3.0, 2.97, 2.94, 2.91, 2.88, 2.85, 2.82, 2.79, 2.76, 2.73, 2.71, 2.68, 2.65, 2.63, 2.61, 2.59, 2.56, 2.53, 2.51, 2.49, 2.46, 2.43, 2.41, 2.39]\n",
      "[4.79, 4.74, 4.7, 4.65, 4.6, 4.55, 4.5, 4.45, 4.4, 4.36, 4.31, 4.27, 4.22, 4.18, 4.14, 4.1, 4.06, 4.01, 3.97, 3.93, 3.89, 3.85, 3.82, 3.78, 3.74, 3.71, 3.67, 3.63, 3.6, 3.56, 3.52, 3.49, 3.45, 3.42, 3.39, 3.35, 3.31, 3.28, 3.25, 3.22, 3.19, 3.16, 3.12, 3.09, 3.06, 3.03, 3.0, 2.97, 2.94, 2.91, 2.88, 2.85, 2.82, 2.79, 2.76, 2.73, 2.71, 2.68, 2.65, 2.63, 2.61, 2.59, 2.56, 2.53, 2.51, 2.49, 2.46, 2.43, 2.41]\n",
      "[4.8, 4.75, 4.7, 4.65, 4.6, 4.55, 4.5, 4.45, 4.4, 4.36, 4.31, 4.27, 4.22, 4.18, 4.14, 4.1, 4.06, 4.01, 3.97, 3.93, 3.89, 3.85, 3.82, 3.78, 3.74, 3.71, 3.67, 3.63, 3.6, 3.56, 3.52, 3.49, 3.45, 3.42, 3.39, 3.35, 3.31, 3.28, 3.25, 3.22, 3.19, 3.16, 3.12, 3.09, 3.06, 3.03, 3.0, 2.97, 2.94, 2.91, 2.88, 2.85, 2.82, 2.79, 2.76, 2.73, 2.71, 2.68, 2.65, 2.63, 2.61, 2.59, 2.56, 2.53, 2.51, 2.49, 2.46, 2.43, 2.41]\n",
      "[4.82, 4.77, 4.72, 4.68, 4.63, 4.59, 4.54, 4.5, 4.45, 4.4, 4.36, 4.31, 4.27, 4.22, 4.18, 4.14, 4.1, 4.06, 4.01, 3.97, 3.93, 3.89, 3.85, 3.82, 3.78, 3.74, 3.71, 3.67, 3.63, 3.6, 3.56, 3.52, 3.49, 3.45, 3.42, 3.39, 3.35, 3.31, 3.28, 3.25, 3.22, 3.19, 3.16, 3.12, 3.09, 3.06, 3.03, 3.0, 2.97, 2.94, 2.91, 2.88, 2.85, 2.82, 2.79, 2.76, 2.73, 2.71, 2.68, 2.65, 2.63, 2.61, 2.59, 2.56, 2.53, 2.51, 2.49, 2.46, 2.43]\n",
      "[4.83, 4.79, 4.74, 4.7, 4.65, 4.6, 4.55, 4.5, 4.45, 4.4, 4.36, 4.31, 4.27, 4.22, 4.18, 4.14, 4.1, 4.06, 4.01, 3.97, 3.93, 3.89, 3.85, 3.82, 3.78, 3.74, 3.71, 3.67, 3.63, 3.6, 3.56, 3.52, 3.49, 3.45, 3.42, 3.39, 3.35, 3.31, 3.28, 3.25, 3.22, 3.19, 3.16, 3.12, 3.09, 3.06, 3.03, 3.0, 2.97, 2.94, 2.91, 2.88, 2.85, 2.82, 2.79, 2.76, 2.73, 2.71, 2.68, 2.65, 2.63, 2.61, 2.59, 2.56, 2.53, 2.51, 2.49, 2.46, 2.43]\n",
      "[4.84, 4.8, 4.75, 4.7, 4.65, 4.6, 4.55, 4.5, 4.45, 4.4, 4.36, 4.31, 4.27, 4.22, 4.18, 4.14, 4.1, 4.06, 4.01, 3.97, 3.93, 3.89, 3.85, 3.82, 3.78, 3.74, 3.71, 3.67, 3.63, 3.6, 3.56, 3.52, 3.49, 3.45, 3.42, 3.39, 3.35, 3.31, 3.28, 3.25, 3.22, 3.19, 3.16, 3.12, 3.09, 3.06, 3.03, 3.0, 2.97, 2.94, 2.91, 2.88, 2.85, 2.82, 2.79, 2.76, 2.73, 2.71, 2.68, 2.65, 2.63, 2.61, 2.59, 2.56, 2.53, 2.51, 2.49, 2.46, 2.43]\n",
      "[4.98, 4.93, 4.88, 4.83, 4.79, 4.74, 4.7, 4.65, 4.6, 4.55, 4.5, 4.45, 4.4, 4.36, 4.31, 4.27, 4.22, 4.18, 4.14, 4.1, 4.06, 4.01, 3.97, 3.93, 3.89, 3.85, 3.82, 3.78, 3.74, 3.71, 3.67, 3.63, 3.6, 3.56, 3.52, 3.49, 3.45, 3.42, 3.39, 3.35, 3.31, 3.28, 3.25, 3.22, 3.19, 3.16, 3.12, 3.09, 3.06, 3.03, 3.0, 2.97, 2.94, 2.91, 2.88, 2.85, 2.82, 2.79, 2.76, 2.73, 2.71, 2.68, 2.65, 2.63, 2.61, 2.59, 2.56, 2.53, 2.51]\n",
      "[5.02, 4.97, 4.92, 4.87, 4.82, 4.77, 4.72, 4.68, 4.63, 4.59, 4.54, 4.5, 4.45, 4.4, 4.36, 4.31, 4.27, 4.22, 4.18, 4.14, 4.1, 4.06, 4.01, 3.97, 3.93, 3.89, 3.85, 3.82, 3.78, 3.74, 3.71, 3.67, 3.63, 3.6, 3.56, 3.52, 3.49, 3.45, 3.42, 3.39, 3.35, 3.31, 3.28, 3.25, 3.22, 3.19, 3.16, 3.12, 3.09, 3.06, 3.03, 3.0, 2.97, 2.94, 2.91, 2.88, 2.85, 2.82, 2.79, 2.76, 2.73, 2.71, 2.68, 2.65, 2.63, 2.61, 2.59, 2.56, 2.53]\n",
      "[5.03, 4.98, 4.93, 4.88, 4.83, 4.79, 4.74, 4.7, 4.65, 4.6, 4.55, 4.5, 4.45, 4.4, 4.36, 4.31, 4.27, 4.22, 4.18, 4.14, 4.1, 4.06, 4.01, 3.97, 3.93, 3.89, 3.85, 3.82, 3.78, 3.74, 3.71, 3.67, 3.63, 3.6, 3.56, 3.52, 3.49, 3.45, 3.42, 3.39, 3.35, 3.31, 3.28, 3.25, 3.22, 3.19, 3.16, 3.12, 3.09, 3.06, 3.03, 3.0, 2.97, 2.94, 2.91, 2.88, 2.85, 2.82, 2.79, 2.76, 2.73, 2.71, 2.68, 2.65, 2.63, 2.61, 2.59, 2.56, 2.53]\n",
      "[5.18, 5.13, 5.08, 5.03, 4.98, 4.93, 4.88, 4.83, 4.79, 4.74, 4.7, 4.65, 4.6, 4.55, 4.5, 4.45, 4.4, 4.36, 4.31, 4.27, 4.22, 4.18, 4.14, 4.1, 4.06, 4.01, 3.97, 3.93, 3.89, 3.85, 3.82, 3.78, 3.74, 3.71, 3.67, 3.63, 3.6, 3.56, 3.52, 3.49, 3.45, 3.42, 3.39, 3.35, 3.31, 3.28, 3.25, 3.22, 3.19, 3.16, 3.12, 3.09, 3.06, 3.03, 3.0, 2.97, 2.94, 2.91, 2.88, 2.85, 2.82, 2.79, 2.76, 2.73, 2.71, 2.68, 2.65, 2.63, 2.61]\n",
      "[5.21, 5.16, 5.1, 5.05, 5.01, 4.96, 4.91, 4.86, 4.81, 4.76, 4.71, 4.66, 4.61, 4.57, 4.52, 4.48, 4.43, 4.39, 4.35, 4.3, 4.26, 4.21, 4.17, 4.13, 4.09, 4.05, 4.01, 3.97, 3.93, 3.89, 3.85, 3.82, 3.78, 3.74, 3.71, 3.67, 3.63, 3.6, 3.56, 3.52, 3.49, 3.45, 3.42, 3.39, 3.35, 3.31, 3.28, 3.25, 3.22, 3.19, 3.16, 3.12, 3.09, 3.06, 3.03, 3.0, 2.97, 2.94, 2.91, 2.88, 2.85, 2.82, 2.79, 2.76, 2.73, 2.71, 2.68, 2.65, 2.63]\n",
      "[5.23, 5.18, 5.13, 5.08, 5.03, 4.98, 4.93, 4.88, 4.83, 4.79, 4.74, 4.7, 4.65, 4.6, 4.55, 4.5, 4.45, 4.4, 4.36, 4.31, 4.27, 4.22, 4.18, 4.14, 4.1, 4.06, 4.01, 3.97, 3.93, 3.89, 3.85, 3.82, 3.78, 3.74, 3.71, 3.67, 3.63, 3.6, 3.56, 3.52, 3.49, 3.45, 3.42, 3.39, 3.35, 3.31, 3.28, 3.25, 3.22, 3.19, 3.16, 3.12, 3.09, 3.06, 3.03, 3.0, 2.97, 2.94, 2.91, 2.88, 2.85, 2.82, 2.79, 2.76, 2.73, 2.71, 2.68, 2.65, 2.63]\n",
      "[5.26, 5.2, 5.15, 5.09, 5.04, 4.99, 4.94, 4.9, 4.85, 4.81, 4.76, 4.71, 4.66, 4.61, 4.57, 4.52, 4.48, 4.43, 4.39, 4.35, 4.3, 4.26, 4.21, 4.17, 4.13, 4.09, 4.05, 4.01, 3.97, 3.93, 3.89, 3.85, 3.82, 3.78, 3.74, 3.71, 3.67, 3.63, 3.6, 3.56, 3.52, 3.49, 3.45, 3.42, 3.39, 3.35, 3.31, 3.28, 3.25, 3.22, 3.19, 3.16, 3.12, 3.09, 3.06, 3.03, 3.0, 2.97, 2.94, 2.91, 2.88, 2.85, 2.82, 2.79, 2.76, 2.73, 2.71, 2.68, 2.65]\n",
      "[5.27, 5.21, 5.16, 5.1, 5.05, 5.01, 4.96, 4.91, 4.86, 4.81, 4.76, 4.71, 4.66, 4.61, 4.57, 4.52, 4.48, 4.43, 4.39, 4.35, 4.3, 4.26, 4.21, 4.17, 4.13, 4.09, 4.05, 4.01, 3.97, 3.93, 3.89, 3.85, 3.82, 3.78, 3.74, 3.71, 3.67, 3.63, 3.6, 3.56, 3.52, 3.49, 3.45, 3.42, 3.39, 3.35, 3.31, 3.28, 3.25, 3.22, 3.19, 3.16, 3.12, 3.09, 3.06, 3.03, 3.0, 2.97, 2.94, 2.91, 2.88, 2.85, 2.82, 2.79, 2.76, 2.73, 2.71, 2.68, 2.65]\n",
      "[5.28, 5.23, 5.18, 5.13, 5.08, 5.03, 4.98, 4.93, 4.88, 4.83, 4.79, 4.74, 4.7, 4.65, 4.6, 4.55, 4.5, 4.45, 4.4, 4.36, 4.31, 4.27, 4.22, 4.18, 4.14, 4.1, 4.06, 4.01, 3.97, 3.93, 3.89, 3.85, 3.82, 3.78, 3.74, 3.71, 3.67, 3.63, 3.6, 3.56, 3.52, 3.49, 3.45, 3.42, 3.39, 3.35, 3.31, 3.28, 3.25, 3.22, 3.19, 3.16, 3.12, 3.09, 3.06, 3.03, 3.0, 2.97, 2.94, 2.91, 2.88, 2.85, 2.82, 2.79, 2.76, 2.73, 2.71, 2.68, 2.65]\n",
      "[5.32, 5.27, 5.21, 5.16, 5.1, 5.05, 5.01, 4.96, 4.91, 4.86, 4.81, 4.76, 4.71, 4.66, 4.61, 4.57, 4.52, 4.48, 4.43, 4.39, 4.35, 4.3, 4.26, 4.21, 4.17, 4.13, 4.09, 4.05, 4.01, 3.97, 3.93, 3.89, 3.85, 3.82, 3.78, 3.74, 3.71, 3.67, 3.63, 3.6, 3.56, 3.52, 3.49, 3.45, 3.42, 3.39, 3.35, 3.31, 3.28, 3.25, 3.22, 3.19, 3.16, 3.12, 3.09, 3.06, 3.03, 3.0, 2.97, 2.94, 2.91, 2.88, 2.85, 2.82, 2.79, 2.76, 2.73, 2.71, 2.68]\n",
      "[5.33, 5.28, 5.23, 5.18, 5.13, 5.08, 5.03, 4.98, 4.93, 4.88, 4.83, 4.79, 4.74, 4.7, 4.65, 4.6, 4.55, 4.5, 4.45, 4.4, 4.36, 4.31, 4.27, 4.22, 4.18, 4.14, 4.1, 4.06, 4.01, 3.97, 3.93, 3.89, 3.85, 3.82, 3.78, 3.74, 3.71, 3.67, 3.63, 3.6, 3.56, 3.52, 3.49, 3.45, 3.42, 3.39, 3.35, 3.31, 3.28, 3.25, 3.22, 3.19, 3.16, 3.12, 3.09, 3.06, 3.03, 3.0, 2.97, 2.94, 2.91, 2.88, 2.85, 2.82, 2.79, 2.76, 2.73, 2.71, 2.68]\n",
      "[5.38, 5.32, 5.27, 5.21, 5.16, 5.1, 5.05, 5.01, 4.96, 4.91, 4.86, 4.81, 4.76, 4.71, 4.66, 4.61, 4.57, 4.52, 4.48, 4.43, 4.39, 4.35, 4.3, 4.26, 4.21, 4.17, 4.13, 4.09, 4.05, 4.01, 3.97, 3.93, 3.89, 3.85, 3.82, 3.78, 3.74, 3.71, 3.67, 3.63, 3.6, 3.56, 3.52, 3.49, 3.45, 3.42, 3.39, 3.35, 3.31, 3.28, 3.25, 3.22, 3.19, 3.16, 3.12, 3.09, 3.06, 3.03, 3.0, 2.97, 2.94, 2.91, 2.88, 2.85, 2.82, 2.79, 2.76, 2.73, 2.71]\n",
      "[5.39, 5.33, 5.28, 5.23, 5.18, 5.13, 5.08, 5.03, 4.98, 4.93, 4.88, 4.83, 4.79, 4.74, 4.7, 4.65, 4.6, 4.55, 4.5, 4.45, 4.4, 4.36, 4.31, 4.27, 4.22, 4.18, 4.14, 4.1, 4.06, 4.01, 3.97, 3.93, 3.89, 3.85, 3.82, 3.78, 3.74, 3.71, 3.67, 3.63, 3.6, 3.56, 3.52, 3.49, 3.45, 3.42, 3.39, 3.35, 3.31, 3.28, 3.25, 3.22, 3.19, 3.16, 3.12, 3.09, 3.06, 3.03, 3.0, 2.97, 2.94, 2.91, 2.88, 2.85, 2.82, 2.79, 2.76, 2.73, 2.71]\n",
      "[5.39, 5.33, 5.28, 5.23, 5.18, 5.13, 5.08, 5.03, 4.98, 4.93, 4.88, 4.83, 4.79, 4.74, 4.7, 4.65, 4.6, 4.55, 4.5, 4.45, 4.4, 4.36, 4.31, 4.27, 4.22, 4.18, 4.14, 4.1, 4.06, 4.01, 3.97, 3.93, 3.89, 3.85, 3.82, 3.78, 3.74, 3.71, 3.67, 3.63, 3.6, 3.56, 3.52, 3.49, 3.45, 3.42, 3.39, 3.35, 3.31, 3.28, 3.25, 3.22, 3.19, 3.16, 3.12, 3.09, 3.06, 3.03, 3.0, 2.97, 2.94, 2.91, 2.88, 2.85, 2.82, 2.79, 2.76, 2.73, 2.71]\n",
      "[5.41, 5.36, 5.3, 5.25, 5.2, 5.15, 5.09, 5.04, 4.99, 4.94, 4.9, 4.85, 4.81, 4.76, 4.71, 4.66, 4.61, 4.57, 4.52, 4.48, 4.43, 4.39, 4.35, 4.3, 4.26, 4.21, 4.17, 4.13, 4.09, 4.05, 4.01, 3.97, 3.93, 3.89, 3.85, 3.82, 3.78, 3.74, 3.71, 3.67, 3.63, 3.6, 3.56, 3.52, 3.49, 3.45, 3.42, 3.39, 3.35, 3.31, 3.28, 3.25, 3.22, 3.19, 3.16, 3.12, 3.09, 3.06, 3.03, 3.0, 2.97, 2.94, 2.91, 2.88, 2.85, 2.82, 2.79, 2.76, 2.73]\n",
      "[5.42, 5.37, 5.31, 5.26, 5.2, 5.15, 5.09, 5.04, 4.99, 4.94, 4.9, 4.85, 4.81, 4.76, 4.71, 4.66, 4.61, 4.57, 4.52, 4.48, 4.43, 4.39, 4.35, 4.3, 4.26, 4.21, 4.17, 4.13, 4.09, 4.05, 4.01, 3.97, 3.93, 3.89, 3.85, 3.82, 3.78, 3.74, 3.71, 3.67, 3.63, 3.6, 3.56, 3.52, 3.49, 3.45, 3.42, 3.39, 3.35, 3.31, 3.28, 3.25, 3.22, 3.19, 3.16, 3.12, 3.09, 3.06, 3.03, 3.0, 2.97, 2.94, 2.91, 2.88, 2.85, 2.82, 2.79, 2.76, 2.73]\n",
      "[5.43, 5.38, 5.32, 5.27, 5.21, 5.16, 5.1, 5.05, 5.01, 4.96, 4.91, 4.86, 4.81, 4.76, 4.71, 4.66, 4.61, 4.57, 4.52, 4.48, 4.43, 4.39, 4.35, 4.3, 4.26, 4.21, 4.17, 4.13, 4.09, 4.05, 4.01, 3.97, 3.93, 3.89, 3.85, 3.82, 3.78, 3.74, 3.71, 3.67, 3.63, 3.6, 3.56, 3.52, 3.49, 3.45, 3.42, 3.39, 3.35, 3.31, 3.28, 3.25, 3.22, 3.19, 3.16, 3.12, 3.09, 3.06, 3.03, 3.0, 2.97, 2.94, 2.91, 2.88, 2.85, 2.82, 2.79, 2.76, 2.73]\n",
      "[5.45, 5.39, 5.33, 5.28, 5.23, 5.18, 5.13, 5.08, 5.03, 4.98, 4.93, 4.88, 4.83, 4.79, 4.74, 4.7, 4.65, 4.6, 4.55, 4.5, 4.45, 4.4, 4.36, 4.31, 4.27, 4.22, 4.18, 4.14, 4.1, 4.06, 4.01, 3.97, 3.93, 3.89, 3.85, 3.82, 3.78, 3.74, 3.71, 3.67, 3.63, 3.6, 3.56, 3.52, 3.49, 3.45, 3.42, 3.39, 3.35, 3.31, 3.28, 3.25, 3.22, 3.19, 3.16, 3.12, 3.09, 3.06, 3.03, 3.0, 2.97, 2.94, 2.91, 2.88, 2.85, 2.82, 2.79, 2.76, 2.73]\n",
      "[5.49, 5.43, 5.38, 5.32, 5.27, 5.21, 5.16, 5.1, 5.05, 5.01, 4.96, 4.91, 4.86, 4.81, 4.76, 4.71, 4.66, 4.61, 4.57, 4.52, 4.48, 4.43, 4.39, 4.35, 4.3, 4.26, 4.21, 4.17, 4.13, 4.09, 4.05, 4.01, 3.97, 3.93, 3.89, 3.85, 3.82, 3.78, 3.74, 3.71, 3.67, 3.63, 3.6, 3.56, 3.52, 3.49, 3.45, 3.42, 3.39, 3.35, 3.31, 3.28, 3.25, 3.22, 3.19, 3.16, 3.12, 3.09, 3.06, 3.03, 3.0, 2.97, 2.94, 2.91, 2.88, 2.85, 2.82, 2.79, 2.76]\n",
      "[5.49, 5.43, 5.38, 5.32, 5.27, 5.21, 5.16, 5.1, 5.05, 5.01, 4.96, 4.91, 4.86, 4.81, 4.76, 4.71, 4.66, 4.61, 4.57, 4.52, 4.48, 4.43, 4.39, 4.35, 4.3, 4.26, 4.21, 4.17, 4.13, 4.09, 4.05, 4.01, 3.97, 3.93, 3.89, 3.85, 3.82, 3.78, 3.74, 3.71, 3.67, 3.63, 3.6, 3.56, 3.52, 3.49, 3.45, 3.42, 3.39, 3.35, 3.31, 3.28, 3.25, 3.22, 3.19, 3.16, 3.12, 3.09, 3.06, 3.03, 3.0, 2.97, 2.94, 2.91, 2.88, 2.85, 2.82, 2.79, 2.76]\n",
      "[5.5, 5.45, 5.39, 5.33, 5.28, 5.23, 5.18, 5.13, 5.08, 5.03, 4.98, 4.93, 4.88, 4.83, 4.79, 4.74, 4.7, 4.65, 4.6, 4.55, 4.5, 4.45, 4.4, 4.36, 4.31, 4.27, 4.22, 4.18, 4.14, 4.1, 4.06, 4.01, 3.97, 3.93, 3.89, 3.85, 3.82, 3.78, 3.74, 3.71, 3.67, 3.63, 3.6, 3.56, 3.52, 3.49, 3.45, 3.42, 3.39, 3.35, 3.31, 3.28, 3.25, 3.22, 3.19, 3.16, 3.12, 3.09, 3.06, 3.03, 3.0, 2.97, 2.94, 2.91, 2.88, 2.85, 2.82, 2.79, 2.76]\n",
      "[5.53, 5.48, 5.42, 5.37, 5.31, 5.26, 5.2, 5.15, 5.09, 5.04, 4.99, 4.94, 4.9, 4.85, 4.81, 4.76, 4.71, 4.66, 4.61, 4.57, 4.52, 4.48, 4.43, 4.39, 4.35, 4.3, 4.26, 4.21, 4.17, 4.13, 4.09, 4.05, 4.01, 3.97, 3.93, 3.89, 3.85, 3.82, 3.78, 3.74, 3.71, 3.67, 3.63, 3.6, 3.56, 3.52, 3.49, 3.45, 3.42, 3.39, 3.35, 3.31, 3.28, 3.25, 3.22, 3.19, 3.16, 3.12, 3.09, 3.06, 3.03, 3.0, 2.97, 2.94, 2.91, 2.88, 2.85, 2.82, 2.79]\n",
      "[5.54, 5.49, 5.43, 5.38, 5.32, 5.27, 5.21, 5.16, 5.1, 5.05, 5.01, 4.96, 4.91, 4.86, 4.81, 4.76, 4.71, 4.66, 4.61, 4.57, 4.52, 4.48, 4.43, 4.39, 4.35, 4.3, 4.26, 4.21, 4.17, 4.13, 4.09, 4.05, 4.01, 3.97, 3.93, 3.89, 3.85, 3.82, 3.78, 3.74, 3.71, 3.67, 3.63, 3.6, 3.56, 3.52, 3.49, 3.45, 3.42, 3.39, 3.35, 3.31, 3.28, 3.25, 3.22, 3.19, 3.16, 3.12, 3.09, 3.06, 3.03, 3.0, 2.97, 2.94, 2.91, 2.88, 2.85, 2.82, 2.79]\n",
      "[5.55, 5.49, 5.43, 5.38, 5.32, 5.27, 5.21, 5.16, 5.1, 5.05, 5.01, 4.96, 4.91, 4.86, 4.81, 4.76, 4.71, 4.66, 4.61, 4.57, 4.52, 4.48, 4.43, 4.39, 4.35, 4.3, 4.26, 4.21, 4.17, 4.13, 4.09, 4.05, 4.01, 3.97, 3.93, 3.89, 3.85, 3.82, 3.78, 3.74, 3.71, 3.67, 3.63, 3.6, 3.56, 3.52, 3.49, 3.45, 3.42, 3.39, 3.35, 3.31, 3.28, 3.25, 3.22, 3.19, 3.16, 3.12, 3.09, 3.06, 3.03, 3.0, 2.97, 2.94, 2.91, 2.88, 2.85, 2.82, 2.79]\n",
      "[5.6, 5.54, 5.49, 5.43, 5.38, 5.32, 5.27, 5.21, 5.16, 5.1, 5.05, 5.01, 4.96, 4.91, 4.86, 4.81, 4.76, 4.71, 4.66, 4.61, 4.57, 4.52, 4.48, 4.43, 4.39, 4.35, 4.3, 4.26, 4.21, 4.17, 4.13, 4.09, 4.05, 4.01, 3.97, 3.93, 3.89, 3.85, 3.82, 3.78, 3.74, 3.71, 3.67, 3.63, 3.6, 3.56, 3.52, 3.49, 3.45, 3.42, 3.39, 3.35, 3.31, 3.28, 3.25, 3.22, 3.19, 3.16, 3.12, 3.09, 3.06, 3.03, 3.0, 2.97, 2.94, 2.91, 2.88, 2.85, 2.82]\n",
      "[5.61, 5.55, 5.49, 5.43, 5.38, 5.32, 5.27, 5.21, 5.16, 5.1, 5.05, 5.01, 4.96, 4.91, 4.86, 4.81, 4.76, 4.71, 4.66, 4.61, 4.57, 4.52, 4.48, 4.43, 4.39, 4.35, 4.3, 4.26, 4.21, 4.17, 4.13, 4.09, 4.05, 4.01, 3.97, 3.93, 3.89, 3.85, 3.82, 3.78, 3.74, 3.71, 3.67, 3.63, 3.6, 3.56, 3.52, 3.49, 3.45, 3.42, 3.39, 3.35, 3.31, 3.28, 3.25, 3.22, 3.19, 3.16, 3.12, 3.09, 3.06, 3.03, 3.0, 2.97, 2.94, 2.91, 2.88, 2.85, 2.82]\n",
      "[5.65, 5.59, 5.53, 5.48, 5.42, 5.37, 5.31, 5.26, 5.2, 5.15, 5.09, 5.04, 4.99, 4.94, 4.9, 4.85, 4.81, 4.76, 4.71, 4.66, 4.61, 4.57, 4.52, 4.48, 4.43, 4.39, 4.35, 4.3, 4.26, 4.21, 4.17, 4.13, 4.09, 4.05, 4.01, 3.97, 3.93, 3.89, 3.85, 3.82, 3.78, 3.74, 3.71, 3.67, 3.63, 3.6, 3.56, 3.52, 3.49, 3.45, 3.42, 3.39, 3.35, 3.31, 3.28, 3.25, 3.22, 3.19, 3.16, 3.12, 3.09, 3.06, 3.03, 3.0, 2.97, 2.94, 2.91, 2.88, 2.85]\n",
      "[5.67, 5.61, 5.55, 5.49, 5.43, 5.38, 5.32, 5.27, 5.21, 5.16, 5.1, 5.05, 5.01, 4.96, 4.91, 4.86, 4.81, 4.76, 4.71, 4.66, 4.61, 4.57, 4.52, 4.48, 4.43, 4.39, 4.35, 4.3, 4.26, 4.21, 4.17, 4.13, 4.09, 4.05, 4.01, 3.97, 3.93, 3.89, 3.85, 3.82, 3.78, 3.74, 3.71, 3.67, 3.63, 3.6, 3.56, 3.52, 3.49, 3.45, 3.42, 3.39, 3.35, 3.31, 3.28, 3.25, 3.22, 3.19, 3.16, 3.12, 3.09, 3.06, 3.03, 3.0, 2.97, 2.94, 2.91, 2.88, 2.85]\n",
      "[5.72, 5.67, 5.61, 5.55, 5.49, 5.43, 5.38, 5.32, 5.27, 5.21, 5.16, 5.1, 5.05, 5.01, 4.96, 4.91, 4.86, 4.81, 4.76, 4.71, 4.66, 4.61, 4.57, 4.52, 4.48, 4.43, 4.39, 4.35, 4.3, 4.26, 4.21, 4.17, 4.13, 4.09, 4.05, 4.01, 3.97, 3.93, 3.89, 3.85, 3.82, 3.78, 3.74, 3.71, 3.67, 3.63, 3.6, 3.56, 3.52, 3.49, 3.45, 3.42, 3.39, 3.35, 3.31, 3.28, 3.25, 3.22, 3.19, 3.16, 3.12, 3.09, 3.06, 3.03, 3.0, 2.97, 2.94, 2.91, 2.88]\n",
      "[5.77, 5.71, 5.65, 5.59, 5.53, 5.48, 5.42, 5.37, 5.31, 5.26, 5.2, 5.15, 5.09, 5.04, 4.99, 4.94, 4.9, 4.85, 4.81, 4.76, 4.71, 4.66, 4.61, 4.57, 4.52, 4.48, 4.43, 4.39, 4.35, 4.3, 4.26, 4.21, 4.17, 4.13, 4.09, 4.05, 4.01, 3.97, 3.93, 3.89, 3.85, 3.82, 3.78, 3.74, 3.71, 3.67, 3.63, 3.6, 3.56, 3.52, 3.49, 3.45, 3.42, 3.39, 3.35, 3.31, 3.28, 3.25, 3.22, 3.19, 3.16, 3.12, 3.09, 3.06, 3.03, 3.0, 2.97, 2.94, 2.91]\n",
      "[5.89, 5.83, 5.77, 5.71, 5.65, 5.59, 5.53, 5.48, 5.42, 5.37, 5.31, 5.26, 5.2, 5.15, 5.09, 5.04, 4.99, 4.94, 4.9, 4.85, 4.81, 4.76, 4.71, 4.66, 4.61, 4.57, 4.52, 4.48, 4.43, 4.39, 4.35, 4.3, 4.26, 4.21, 4.17, 4.13, 4.09, 4.05, 4.01, 3.97, 3.93, 3.89, 3.85, 3.82, 3.78, 3.74, 3.71, 3.67, 3.63, 3.6, 3.56, 3.52, 3.49, 3.45, 3.42, 3.39, 3.35, 3.31, 3.28, 3.25, 3.22, 3.19, 3.16, 3.12, 3.09, 3.06, 3.03, 3.0, 2.97]\n",
      "[6.01, 5.95, 5.89, 5.83, 5.77, 5.71, 5.65, 5.59, 5.53, 5.48, 5.42, 5.37, 5.31, 5.26, 5.2, 5.15, 5.09, 5.04, 4.99, 4.94, 4.9, 4.85, 4.81, 4.76, 4.71, 4.66, 4.61, 4.57, 4.52, 4.48, 4.43, 4.39, 4.35, 4.3, 4.26, 4.21, 4.17, 4.13, 4.09, 4.05, 4.01, 3.97, 3.93, 3.89, 3.85, 3.82, 3.78, 3.74, 3.71, 3.67, 3.63, 3.6, 3.56, 3.52, 3.49, 3.45, 3.42, 3.39, 3.35, 3.31, 3.28, 3.25, 3.22, 3.19, 3.16, 3.12, 3.09, 3.06, 3.03]\n",
      "[6.13, 6.07, 6.01, 5.95, 5.89, 5.83, 5.77, 5.71, 5.65, 5.59, 5.53, 5.48, 5.42, 5.37, 5.31, 5.26, 5.2, 5.15, 5.09, 5.04, 4.99, 4.94, 4.9, 4.85, 4.81, 4.76, 4.71, 4.66, 4.61, 4.57, 4.52, 4.48, 4.43, 4.39, 4.35, 4.3, 4.26, 4.21, 4.17, 4.13, 4.09, 4.05, 4.01, 3.97, 3.93, 3.89, 3.85, 3.82, 3.78, 3.74, 3.71, 3.67, 3.63, 3.6, 3.56, 3.52, 3.49, 3.45, 3.42, 3.39, 3.35, 3.31, 3.28, 3.25, 3.22, 3.19, 3.16, 3.12, 3.09]\n",
      "[6.19, 6.13, 6.07, 6.01, 5.95, 5.89, 5.83, 5.77, 5.71, 5.65, 5.59, 5.53, 5.48, 5.42, 5.37, 5.31, 5.26, 5.2, 5.15, 5.09, 5.04, 4.99, 4.94, 4.9, 4.85, 4.81, 4.76, 4.71, 4.66, 4.61, 4.57, 4.52, 4.48, 4.43, 4.39, 4.35, 4.3, 4.26, 4.21, 4.17, 4.13, 4.09, 4.05, 4.01, 3.97, 3.93, 3.89, 3.85, 3.82, 3.78, 3.74, 3.71, 3.67, 3.63, 3.6, 3.56, 3.52, 3.49, 3.45, 3.42, 3.39, 3.35, 3.31, 3.28, 3.25, 3.22, 3.19, 3.16, 3.12]\n",
      "[6.57, 6.5, 6.43, 6.37, 6.3, 6.24, 6.18, 6.12, 6.06, 6.0, 5.94, 5.89, 5.83, 5.77, 5.71, 5.65, 5.59, 5.53, 5.48, 5.42, 5.37, 5.31, 5.26, 5.2, 5.15, 5.09, 5.04, 4.99, 4.94, 4.9, 4.85, 4.81, 4.76, 4.71, 4.66, 4.61, 4.57, 4.52, 4.48, 4.43, 4.39, 4.35, 4.3, 4.26, 4.21, 4.17, 4.13, 4.09, 4.05, 4.01, 3.97, 3.93, 3.89, 3.85, 3.82, 3.78, 3.74, 3.71, 3.67, 3.63, 3.6, 3.56, 3.52, 3.49, 3.45, 3.42, 3.39, 3.35, 3.31]\n",
      "[7.63, 7.56, 7.48, 7.4, 7.33, 7.26, 7.18, 7.11, 7.04, 6.97, 6.9, 6.83, 6.77, 6.7, 6.63, 6.57, 6.5, 6.43, 6.37, 6.3, 6.24, 6.18, 6.12, 6.06, 6.0, 5.94, 5.89, 5.83, 5.77, 5.71, 5.65, 5.59, 5.53, 5.48, 5.42, 5.37, 5.31, 5.26, 5.2, 5.15, 5.09, 5.04, 4.99, 4.94, 4.9, 4.85, 4.81, 4.76, 4.71, 4.66, 4.61, 4.57, 4.52, 4.48, 4.43, 4.39, 4.35, 4.3, 4.26, 4.21, 4.17, 4.13, 4.09, 4.05, 4.01, 3.97, 3.93, 3.89, 3.85]\n",
      "[7.71, 7.63, 7.56, 7.48, 7.4, 7.33, 7.26, 7.18, 7.11, 7.04, 6.97, 6.9, 6.83, 6.77, 6.7, 6.63, 6.57, 6.5, 6.43, 6.37, 6.3, 6.24, 6.18, 6.12, 6.06, 6.0, 5.94, 5.89, 5.83, 5.77, 5.71, 5.65, 5.59, 5.53, 5.48, 5.42, 5.37, 5.31, 5.26, 5.2, 5.15, 5.09, 5.04, 4.99, 4.94, 4.9, 4.85, 4.81, 4.76, 4.71, 4.66, 4.61, 4.57, 4.52, 4.48, 4.43, 4.39, 4.35, 4.3, 4.26, 4.21, 4.17, 4.13, 4.09, 4.05, 4.01, 3.97, 3.93, 3.89]\n",
      "[7.79, 7.71, 7.63, 7.56, 7.48, 7.4, 7.33, 7.26, 7.18, 7.11, 7.04, 6.97, 6.9, 6.83, 6.77, 6.7, 6.63, 6.57, 6.5, 6.43, 6.37, 6.3, 6.24, 6.18, 6.12, 6.06, 6.0, 5.94, 5.89, 5.83, 5.77, 5.71, 5.65, 5.59, 5.53, 5.48, 5.42, 5.37, 5.31, 5.26, 5.2, 5.15, 5.09, 5.04, 4.99, 4.94, 4.9, 4.85, 4.81, 4.76, 4.71, 4.66, 4.61, 4.57, 4.52, 4.48, 4.43, 4.39, 4.35, 4.3, 4.26, 4.21, 4.17, 4.13, 4.09, 4.05, 4.01, 3.97, 3.93]\n",
      "[7.87, 7.79, 7.71, 7.63, 7.56, 7.48, 7.4, 7.33, 7.26, 7.18, 7.11, 7.04, 6.97, 6.9, 6.83, 6.77, 6.7, 6.63, 6.57, 6.5, 6.43, 6.37, 6.3, 6.24, 6.18, 6.12, 6.06, 6.0, 5.94, 5.89, 5.83, 5.77, 5.71, 5.65, 5.59, 5.53, 5.48, 5.42, 5.37, 5.31, 5.26, 5.2, 5.15, 5.09, 5.04, 4.99, 4.94, 4.9, 4.85, 4.81, 4.76, 4.71, 4.66, 4.61, 4.57, 4.52, 4.48, 4.43, 4.39, 4.35, 4.3, 4.26, 4.21, 4.17, 4.13, 4.09, 4.05, 4.01, 3.97]\n",
      "[7.95, 7.87, 7.79, 7.71, 7.63, 7.56, 7.48, 7.4, 7.33, 7.26, 7.18, 7.11, 7.04, 6.97, 6.9, 6.83, 6.77, 6.7, 6.63, 6.57, 6.5, 6.43, 6.37, 6.3, 6.24, 6.18, 6.12, 6.06, 6.0, 5.94, 5.89, 5.83, 5.77, 5.71, 5.65, 5.59, 5.53, 5.48, 5.42, 5.37, 5.31, 5.26, 5.2, 5.15, 5.09, 5.04, 4.99, 4.94, 4.9, 4.85, 4.81, 4.76, 4.71, 4.66, 4.61, 4.57, 4.52, 4.48, 4.43, 4.39, 4.35, 4.3, 4.26, 4.21, 4.17, 4.13, 4.09, 4.05, 4.01]\n",
      "[8.03, 7.95, 7.87, 7.79, 7.71, 7.63, 7.56, 7.48, 7.4, 7.33, 7.26, 7.18, 7.11, 7.04, 6.97, 6.9, 6.83, 6.77, 6.7, 6.63, 6.57, 6.5, 6.43, 6.37, 6.3, 6.24, 6.18, 6.12, 6.06, 6.0, 5.94, 5.89, 5.83, 5.77, 5.71, 5.65, 5.59, 5.53, 5.48, 5.42, 5.37, 5.31, 5.26, 5.2, 5.15, 5.09, 5.04, 4.99, 4.94, 4.9, 4.85, 4.81, 4.76, 4.71, 4.66, 4.61, 4.57, 4.52, 4.48, 4.43, 4.39, 4.35, 4.3, 4.26, 4.21, 4.17, 4.13, 4.09, 4.05]\n",
      "[8.11, 8.03, 7.95, 7.87, 7.79, 7.71, 7.63, 7.56, 7.48, 7.4, 7.33, 7.26, 7.18, 7.11, 7.04, 6.97, 6.9, 6.83, 6.77, 6.7, 6.63, 6.57, 6.5, 6.43, 6.37, 6.3, 6.24, 6.18, 6.12, 6.06, 6.0, 5.94, 5.89, 5.83, 5.77, 5.71, 5.65, 5.59, 5.53, 5.48, 5.42, 5.37, 5.31, 5.26, 5.2, 5.15, 5.09, 5.04, 4.99, 4.94, 4.9, 4.85, 4.81, 4.76, 4.71, 4.66, 4.61, 4.57, 4.52, 4.48, 4.43, 4.39, 4.35, 4.3, 4.26, 4.21, 4.17, 4.13, 4.09]\n",
      "[8.18, 8.1, 8.02, 7.94, 7.87, 7.79, 7.71, 7.63, 7.56, 7.48, 7.4, 7.33, 7.26, 7.18, 7.11, 7.04, 6.97, 6.9, 6.83, 6.77, 6.7, 6.63, 6.57, 6.5, 6.43, 6.37, 6.3, 6.24, 6.18, 6.12, 6.06, 6.0, 5.94, 5.89, 5.83, 5.77, 5.71, 5.65, 5.59, 5.53, 5.48, 5.42, 5.37, 5.31, 5.26, 5.2, 5.15, 5.09, 5.04, 4.99, 4.94, 4.9, 4.85, 4.81, 4.76, 4.71, 4.66, 4.61, 4.57, 4.52, 4.48, 4.43, 4.39, 4.35, 4.3, 4.26, 4.21, 4.17, 4.13]\n",
      "[8.26, 8.17, 8.09, 8.01, 7.93, 7.85, 7.78, 7.7, 7.62, 7.55, 7.47, 7.39, 7.31, 7.24, 7.17, 7.09, 7.02, 6.95, 6.87, 6.8, 6.73, 6.67, 6.6, 6.53, 6.47, 6.4, 6.34, 6.28, 6.22, 6.16, 6.09, 6.03, 5.97, 5.91, 5.85, 5.8, 5.74, 5.69, 5.63, 5.58, 5.52, 5.47, 5.41, 5.36, 5.3, 5.25, 5.2, 5.15, 5.09, 5.04, 4.99, 4.94, 4.9, 4.85, 4.81, 4.76, 4.71, 4.66, 4.61, 4.57, 4.52, 4.48, 4.43, 4.39, 4.35, 4.3, 4.26, 4.21, 4.17]\n",
      "[8.27, 8.18, 8.1, 8.02, 7.94, 7.87, 7.79, 7.71, 7.63, 7.56, 7.48, 7.4, 7.33, 7.26, 7.18, 7.11, 7.04, 6.97, 6.9, 6.83, 6.77, 6.7, 6.63, 6.57, 6.5, 6.43, 6.37, 6.3, 6.24, 6.18, 6.12, 6.06, 6.0, 5.94, 5.89, 5.83, 5.77, 5.71, 5.65, 5.59, 5.53, 5.48, 5.42, 5.37, 5.31, 5.26, 5.2, 5.15, 5.09, 5.04, 4.99, 4.94, 4.9, 4.85, 4.81, 4.76, 4.71, 4.66, 4.61, 4.57, 4.52, 4.48, 4.43, 4.39, 4.35, 4.3, 4.26, 4.21, 4.17]\n",
      "[8.35, 8.26, 8.17, 8.09, 8.01, 7.93, 7.85, 7.78, 7.7, 7.62, 7.55, 7.47, 7.39, 7.31, 7.24, 7.17, 7.09, 7.02, 6.95, 6.87, 6.8, 6.73, 6.67, 6.6, 6.53, 6.47, 6.4, 6.34, 6.28, 6.22, 6.16, 6.09, 6.03, 5.97, 5.91, 5.85, 5.8, 5.74, 5.69, 5.63, 5.58, 5.52, 5.47, 5.41, 5.36, 5.3, 5.25, 5.2, 5.15, 5.09, 5.04, 4.99, 4.94, 4.9, 4.85, 4.81, 4.76, 4.71, 4.66, 4.61, 4.57, 4.52, 4.48, 4.43, 4.39, 4.35, 4.3, 4.26, 4.21]\n",
      "[8.36, 8.27, 8.18, 8.1, 8.02, 7.94, 7.87, 7.79, 7.71, 7.63, 7.56, 7.48, 7.4, 7.33, 7.26, 7.18, 7.11, 7.04, 6.97, 6.9, 6.83, 6.77, 6.7, 6.63, 6.57, 6.5, 6.43, 6.37, 6.3, 6.24, 6.18, 6.12, 6.06, 6.0, 5.94, 5.89, 5.83, 5.77, 5.71, 5.65, 5.59, 5.53, 5.48, 5.42, 5.37, 5.31, 5.26, 5.2, 5.15, 5.09, 5.04, 4.99, 4.94, 4.9, 4.85, 4.81, 4.76, 4.71, 4.66, 4.61, 4.57, 4.52, 4.48, 4.43, 4.39, 4.35, 4.3, 4.26, 4.21]\n",
      "[8.78, 8.69, 8.6, 8.51, 8.43, 8.35, 8.26, 8.17, 8.09, 8.01, 7.93, 7.85, 7.78, 7.7, 7.62, 7.55, 7.47, 7.39, 7.31, 7.24, 7.17, 7.09, 7.02, 6.95, 6.87, 6.8, 6.73, 6.67, 6.6, 6.53, 6.47, 6.4, 6.34, 6.28, 6.22, 6.16, 6.09, 6.03, 5.97, 5.91, 5.85, 5.8, 5.74, 5.69, 5.63, 5.58, 5.52, 5.47, 5.41, 5.36, 5.3, 5.25, 5.2, 5.15, 5.09, 5.04, 4.99, 4.94, 4.9, 4.85, 4.81, 4.76, 4.71, 4.66, 4.61, 4.57, 4.52, 4.48, 4.43]\n",
      "[8.95, 8.86, 8.77, 8.68, 8.59, 8.5, 8.42, 8.34, 8.26, 8.17, 8.09, 8.01, 7.93, 7.85, 7.78, 7.7, 7.62, 7.55, 7.47, 7.39, 7.31, 7.24, 7.17, 7.09, 7.02, 6.95, 6.87, 6.8, 6.73, 6.67, 6.6, 6.53, 6.47, 6.4, 6.34, 6.28, 6.22, 6.16, 6.09, 6.03, 5.97, 5.91, 5.85, 5.8, 5.74, 5.69, 5.63, 5.58, 5.52, 5.47, 5.41, 5.36, 5.3, 5.25, 5.2, 5.15, 5.09, 5.04, 4.99, 4.94, 4.9, 4.85, 4.81, 4.76, 4.71, 4.66, 4.61, 4.57, 4.52]\n",
      "[9.05, 8.95, 8.86, 8.77, 8.68, 8.59, 8.5, 8.42, 8.34, 8.26, 8.17, 8.09, 8.01, 7.93, 7.85, 7.78, 7.7, 7.62, 7.55, 7.47, 7.39, 7.31, 7.24, 7.17, 7.09, 7.02, 6.95, 6.87, 6.8, 6.73, 6.67, 6.6, 6.53, 6.47, 6.4, 6.34, 6.28, 6.22, 6.16, 6.09, 6.03, 5.97, 5.91, 5.85, 5.8, 5.74, 5.69, 5.63, 5.58, 5.52, 5.47, 5.41, 5.36, 5.3, 5.25, 5.2, 5.15, 5.09, 5.04, 4.99, 4.94, 4.9, 4.85, 4.81, 4.76, 4.71, 4.66, 4.61, 4.57]\n",
      "[9.14, 9.05, 8.95, 8.86, 8.77, 8.68, 8.59, 8.5, 8.42, 8.34, 8.26, 8.17, 8.09, 8.01, 7.93, 7.85, 7.78, 7.7, 7.62, 7.55, 7.47, 7.39, 7.31, 7.24, 7.17, 7.09, 7.02, 6.95, 6.87, 6.8, 6.73, 6.67, 6.6, 6.53, 6.47, 6.4, 6.34, 6.28, 6.22, 6.16, 6.09, 6.03, 5.97, 5.91, 5.85, 5.8, 5.74, 5.69, 5.63, 5.58, 5.52, 5.47, 5.41, 5.36, 5.3, 5.25, 5.2, 5.15, 5.09, 5.04, 4.99, 4.94, 4.9, 4.85, 4.81, 4.76, 4.71, 4.66, 4.61]\n",
      "[9.15, 9.05, 8.95, 8.86, 8.77, 8.68, 8.59, 8.5, 8.42, 8.34, 8.26, 8.17, 8.09, 8.01, 7.93, 7.85, 7.78, 7.7, 7.62, 7.55, 7.47, 7.39, 7.31, 7.24, 7.17, 7.09, 7.02, 6.95, 6.87, 6.8, 6.73, 6.67, 6.6, 6.53, 6.47, 6.4, 6.34, 6.28, 6.22, 6.16, 6.09, 6.03, 5.97, 5.91, 5.85, 5.8, 5.74, 5.69, 5.63, 5.58, 5.52, 5.47, 5.41, 5.36, 5.3, 5.25, 5.2, 5.15, 5.09, 5.04, 4.99, 4.94, 4.9, 4.85, 4.81, 4.76, 4.71, 4.66, 4.61]\n",
      "[9.8, 9.7, 9.6, 9.5, 9.41, 9.32, 9.23, 9.14, 9.05, 8.95, 8.86, 8.77, 8.68, 8.59, 8.5, 8.42, 8.34, 8.26, 8.17, 8.09, 8.01, 7.93, 7.85, 7.78, 7.7, 7.62, 7.55, 7.47, 7.39, 7.31, 7.24, 7.17, 7.09, 7.02, 6.95, 6.87, 6.8, 6.73, 6.67, 6.6, 6.53, 6.47, 6.4, 6.34, 6.28, 6.22, 6.16, 6.09, 6.03, 5.97, 5.91, 5.85, 5.8, 5.74, 5.69, 5.63, 5.58, 5.52, 5.47, 5.41, 5.36, 5.3, 5.25, 5.2, 5.15, 5.09, 5.04, 4.99, 4.94]\n",
      "[9.89, 9.79, 9.69, 9.59, 9.49, 9.39, 9.29, 9.2, 9.11, 9.02, 8.93, 8.84, 8.76, 8.67, 8.58, 8.49, 8.4, 8.32, 8.24, 8.16, 8.07, 7.99, 7.91, 7.83, 7.75, 7.67, 7.59, 7.51, 7.44, 7.37, 7.29, 7.22, 7.15, 7.07, 7.0, 6.93, 6.86, 6.79, 6.72, 6.65, 6.59, 6.52, 6.46, 6.39, 6.33, 6.27, 6.2, 6.14, 6.08, 6.02, 5.96, 5.9, 5.84, 5.79, 5.73, 5.68, 5.62, 5.57, 5.51, 5.46, 5.4, 5.35, 5.29, 5.24, 5.19, 5.14, 5.09, 5.04, 4.99]\n",
      "[9.9, 9.8, 9.7, 9.6, 9.5, 9.41, 9.32, 9.23, 9.14, 9.05, 8.95, 8.86, 8.77, 8.68, 8.59, 8.5, 8.42, 8.34, 8.26, 8.17, 8.09, 8.01, 7.93, 7.85, 7.78, 7.7, 7.62, 7.55, 7.47, 7.39, 7.31, 7.24, 7.17, 7.09, 7.02, 6.95, 6.87, 6.8, 6.73, 6.67, 6.6, 6.53, 6.47, 6.4, 6.34, 6.28, 6.22, 6.16, 6.09, 6.03, 5.97, 5.91, 5.85, 5.8, 5.74, 5.69, 5.63, 5.58, 5.52, 5.47, 5.41, 5.36, 5.3, 5.25, 5.2, 5.15, 5.09, 5.04, 4.99]\n",
      "[10.0, 9.9, 9.8, 9.7, 9.6, 9.5, 9.41, 9.32, 9.23, 9.14, 9.05, 8.95, 8.86, 8.77, 8.68, 8.59, 8.5, 8.42, 8.34, 8.26, 8.17, 8.09, 8.01, 7.93, 7.85, 7.78, 7.7, 7.62, 7.55, 7.47, 7.39, 7.31, 7.24, 7.17, 7.09, 7.02, 6.95, 6.87, 6.8, 6.73, 6.67, 6.6, 6.53, 6.47, 6.4, 6.34, 6.28, 6.22, 6.16, 6.09, 6.03, 5.97, 5.91, 5.85, 5.8, 5.74, 5.69, 5.63, 5.58, 5.52, 5.47, 5.41, 5.36, 5.3, 5.25, 5.2, 5.15, 5.09, 5.04]\n",
      "[10.09, 9.99, 9.89, 9.79, 9.69, 9.59, 9.49, 9.39, 9.29, 9.2, 9.11, 9.02, 8.93, 8.84, 8.76, 8.67, 8.58, 8.49, 8.4, 8.32, 8.24, 8.16, 8.07, 7.99, 7.91, 7.83, 7.75, 7.67, 7.59, 7.51, 7.44, 7.37, 7.29, 7.22, 7.15, 7.07, 7.0, 6.93, 6.86, 6.79, 6.72, 6.65, 6.59, 6.52, 6.46, 6.39, 6.33, 6.27, 6.2, 6.14, 6.08, 6.02, 5.96, 5.9, 5.84, 5.79, 5.73, 5.68, 5.62, 5.57, 5.51, 5.46, 5.4, 5.35, 5.29, 5.24, 5.19, 5.14, 5.09]\n",
      "[10.1, 10.0, 9.9, 9.8, 9.7, 9.6, 9.5, 9.41, 9.32, 9.23, 9.14, 9.05, 8.95, 8.86, 8.77, 8.68, 8.59, 8.5, 8.42, 8.34, 8.26, 8.17, 8.09, 8.01, 7.93, 7.85, 7.78, 7.7, 7.62, 7.55, 7.47, 7.39, 7.31, 7.24, 7.17, 7.09, 7.02, 6.95, 6.87, 6.8, 6.73, 6.67, 6.6, 6.53, 6.47, 6.4, 6.34, 6.28, 6.22, 6.16, 6.09, 6.03, 5.97, 5.91, 5.85, 5.8, 5.74, 5.69, 5.63, 5.58, 5.52, 5.47, 5.41, 5.36, 5.3, 5.25, 5.2, 5.15, 5.09]\n",
      "[10.29, 10.19, 10.09, 9.99, 9.89, 9.79, 9.69, 9.59, 9.49, 9.39, 9.29, 9.2, 9.11, 9.02, 8.93, 8.84, 8.76, 8.67, 8.58, 8.49, 8.4, 8.32, 8.24, 8.16, 8.07, 7.99, 7.91, 7.83, 7.75, 7.67, 7.59, 7.51, 7.44, 7.37, 7.29, 7.22, 7.15, 7.07, 7.0, 6.93, 6.86, 6.79, 6.72, 6.65, 6.59, 6.52, 6.46, 6.39, 6.33, 6.27, 6.2, 6.14, 6.08, 6.02, 5.96, 5.9, 5.84, 5.79, 5.73, 5.68, 5.62, 5.57, 5.51, 5.46, 5.4, 5.35, 5.29, 5.24, 5.19]\n",
      "[10.39, 10.29, 10.19, 10.09, 9.99, 9.89, 9.79, 9.69, 9.59, 9.49, 9.39, 9.29, 9.2, 9.11, 9.02, 8.93, 8.84, 8.76, 8.67, 8.58, 8.49, 8.4, 8.32, 8.24, 8.16, 8.07, 7.99, 7.91, 7.83, 7.75, 7.67, 7.59, 7.51, 7.44, 7.37, 7.29, 7.22, 7.15, 7.07, 7.0, 6.93, 6.86, 6.79, 6.72, 6.65, 6.59, 6.52, 6.46, 6.39, 6.33, 6.27, 6.2, 6.14, 6.08, 6.02, 5.96, 5.9, 5.84, 5.79, 5.73, 5.68, 5.62, 5.57, 5.51, 5.46, 5.4, 5.35, 5.29, 5.24]\n",
      "[10.48, 10.37, 10.26, 10.15, 10.04, 9.94, 9.85, 9.76, 9.66, 9.56, 9.46, 9.36, 9.26, 9.16, 9.06, 8.97, 8.88, 8.79, 8.7, 8.61, 8.53, 8.45, 8.37, 8.28, 8.2, 8.12, 8.04, 7.96, 7.88, 7.8, 7.72, 7.65, 7.57, 7.49, 7.41, 7.34, 7.27, 7.19, 7.12, 7.05, 6.99, 6.92, 6.85, 6.79, 6.72, 6.65, 6.59, 6.52, 6.46, 6.39, 6.33, 6.27, 6.2, 6.14, 6.08, 6.02, 5.96, 5.9, 5.84, 5.79, 5.73, 5.68, 5.62, 5.57, 5.51, 5.46, 5.4, 5.35, 5.29]\n",
      "[10.49, 10.38, 10.27, 10.16, 10.05, 9.94, 9.85, 9.76, 9.66, 9.56, 9.46, 9.36, 9.26, 9.16, 9.06, 8.97, 8.88, 8.79, 8.7, 8.61, 8.53, 8.45, 8.37, 8.28, 8.2, 8.12, 8.04, 7.96, 7.88, 7.8, 7.72, 7.65, 7.57, 7.49, 7.41, 7.34, 7.27, 7.19, 7.12, 7.05, 6.99, 6.92, 6.85, 6.79, 6.72, 6.65, 6.59, 6.52, 6.46, 6.39, 6.33, 6.27, 6.2, 6.14, 6.08, 6.02, 5.96, 5.9, 5.84, 5.79, 5.73, 5.68, 5.62, 5.57, 5.51, 5.46, 5.4, 5.35, 5.29]\n",
      "[10.6, 10.49, 10.38, 10.27, 10.16, 10.05, 9.94, 9.85, 9.76, 9.66, 9.56, 9.46, 9.36, 9.26, 9.16, 9.06, 8.97, 8.88, 8.79, 8.7, 8.61, 8.53, 8.45, 8.37, 8.28, 8.2, 8.12, 8.04, 7.96, 7.88, 7.8, 7.72, 7.65, 7.57, 7.49, 7.41, 7.34, 7.27, 7.19, 7.12, 7.05, 6.99, 6.92, 6.85, 6.79, 6.72, 6.65, 6.59, 6.52, 6.46, 6.39, 6.33, 6.27, 6.2, 6.14, 6.08, 6.02, 5.96, 5.9, 5.84, 5.79, 5.73, 5.68, 5.62, 5.57, 5.51, 5.46, 5.4, 5.35]\n",
      "[10.71, 10.6, 10.49, 10.38, 10.27, 10.16, 10.05, 9.94, 9.85, 9.76, 9.66, 9.56, 9.46, 9.36, 9.26, 9.16, 9.06, 8.97, 8.88, 8.79, 8.7, 8.61, 8.53, 8.45, 8.37, 8.28, 8.2, 8.12, 8.04, 7.96, 7.88, 7.8, 7.72, 7.65, 7.57, 7.49, 7.41, 7.34, 7.27, 7.19, 7.12, 7.05, 6.99, 6.92, 6.85, 6.79, 6.72, 6.65, 6.59, 6.52, 6.46, 6.39, 6.33, 6.27, 6.2, 6.14, 6.08, 6.02, 5.96, 5.9, 5.84, 5.79, 5.73, 5.68, 5.62, 5.57, 5.51, 5.46, 5.4]\n",
      "[10.92, 10.81, 10.7, 10.59, 10.48, 10.37, 10.26, 10.15, 10.04, 9.94, 9.85, 9.76, 9.66, 9.56, 9.46, 9.36, 9.26, 9.16, 9.06, 8.97, 8.88, 8.79, 8.7, 8.61, 8.53, 8.45, 8.37, 8.28, 8.2, 8.12, 8.04, 7.96, 7.88, 7.8, 7.72, 7.65, 7.57, 7.49, 7.41, 7.34, 7.27, 7.19, 7.12, 7.05, 6.99, 6.92, 6.85, 6.79, 6.72, 6.65, 6.59, 6.52, 6.46, 6.39, 6.33, 6.27, 6.2, 6.14, 6.08, 6.02, 5.96, 5.9, 5.84, 5.79, 5.73, 5.68, 5.62, 5.57, 5.51]\n",
      "[10.93, 10.82, 10.71, 10.6, 10.49, 10.38, 10.27, 10.16, 10.05, 9.94, 9.85, 9.76, 9.66, 9.56, 9.46, 9.36, 9.26, 9.16, 9.06, 8.97, 8.88, 8.79, 8.7, 8.61, 8.53, 8.45, 8.37, 8.28, 8.2, 8.12, 8.04, 7.96, 7.88, 7.8, 7.72, 7.65, 7.57, 7.49, 7.41, 7.34, 7.27, 7.19, 7.12, 7.05, 6.99, 6.92, 6.85, 6.79, 6.72, 6.65, 6.59, 6.52, 6.46, 6.39, 6.33, 6.27, 6.2, 6.14, 6.08, 6.02, 5.96, 5.9, 5.84, 5.79, 5.73, 5.68, 5.62, 5.57, 5.51]\n",
      "[10.93, 10.82, 10.71, 10.6, 10.49, 10.38, 10.27, 10.16, 10.05, 9.94, 9.85, 9.76, 9.66, 9.56, 9.46, 9.36, 9.26, 9.16, 9.06, 8.97, 8.88, 8.79, 8.7, 8.61, 8.53, 8.45, 8.37, 8.28, 8.2, 8.12, 8.04, 7.96, 7.88, 7.8, 7.72, 7.65, 7.57, 7.49, 7.41, 7.34, 7.27, 7.19, 7.12, 7.05, 6.99, 6.92, 6.85, 6.79, 6.72, 6.65, 6.59, 6.52, 6.46, 6.39, 6.33, 6.27, 6.2, 6.14, 6.08, 6.02, 5.96, 5.9, 5.84, 5.79, 5.73, 5.68, 5.62, 5.57, 5.51]\n",
      "[11.03, 10.92, 10.81, 10.7, 10.59, 10.48, 10.37, 10.26, 10.15, 10.04, 9.94, 9.85, 9.76, 9.66, 9.56, 9.46, 9.36, 9.26, 9.16, 9.06, 8.97, 8.88, 8.79, 8.7, 8.61, 8.53, 8.45, 8.37, 8.28, 8.2, 8.12, 8.04, 7.96, 7.88, 7.8, 7.72, 7.65, 7.57, 7.49, 7.41, 7.34, 7.27, 7.19, 7.12, 7.05, 6.99, 6.92, 6.85, 6.79, 6.72, 6.65, 6.59, 6.52, 6.46, 6.39, 6.33, 6.27, 6.2, 6.14, 6.08, 6.02, 5.96, 5.9, 5.84, 5.79, 5.73, 5.68, 5.62, 5.57]\n",
      "[11.04, 10.93, 10.82, 10.71, 10.6, 10.49, 10.38, 10.27, 10.16, 10.05, 9.94, 9.85, 9.76, 9.66, 9.56, 9.46, 9.36, 9.26, 9.16, 9.06, 8.97, 8.88, 8.79, 8.7, 8.61, 8.53, 8.45, 8.37, 8.28, 8.2, 8.12, 8.04, 7.96, 7.88, 7.8, 7.72, 7.65, 7.57, 7.49, 7.41, 7.34, 7.27, 7.19, 7.12, 7.05, 6.99, 6.92, 6.85, 6.79, 6.72, 6.65, 6.59, 6.52, 6.46, 6.39, 6.33, 6.27, 6.2, 6.14, 6.08, 6.02, 5.96, 5.9, 5.84, 5.79, 5.73, 5.68, 5.62, 5.57]\n",
      "[11.14, 11.03, 10.92, 10.81, 10.7, 10.59, 10.48, 10.37, 10.26, 10.15, 10.04, 9.94, 9.85, 9.76, 9.66, 9.56, 9.46, 9.36, 9.26, 9.16, 9.06, 8.97, 8.88, 8.79, 8.7, 8.61, 8.53, 8.45, 8.37, 8.28, 8.2, 8.12, 8.04, 7.96, 7.88, 7.8, 7.72, 7.65, 7.57, 7.49, 7.41, 7.34, 7.27, 7.19, 7.12, 7.05, 6.99, 6.92, 6.85, 6.79, 6.72, 6.65, 6.59, 6.52, 6.46, 6.39, 6.33, 6.27, 6.2, 6.14, 6.08, 6.02, 5.96, 5.9, 5.84, 5.79, 5.73, 5.68, 5.62]\n",
      "[11.15, 11.03, 10.92, 10.81, 10.7, 10.59, 10.48, 10.37, 10.26, 10.15, 10.04, 9.94, 9.85, 9.76, 9.66, 9.56, 9.46, 9.36, 9.26, 9.16, 9.06, 8.97, 8.88, 8.79, 8.7, 8.61, 8.53, 8.45, 8.37, 8.28, 8.2, 8.12, 8.04, 7.96, 7.88, 7.8, 7.72, 7.65, 7.57, 7.49, 7.41, 7.34, 7.27, 7.19, 7.12, 7.05, 6.99, 6.92, 6.85, 6.79, 6.72, 6.65, 6.59, 6.52, 6.46, 6.39, 6.33, 6.27, 6.2, 6.14, 6.08, 6.02, 5.96, 5.9, 5.84, 5.79, 5.73, 5.68, 5.62]\n",
      "[11.26, 11.14, 11.03, 10.92, 10.81, 10.7, 10.59, 10.48, 10.37, 10.26, 10.15, 10.04, 9.94, 9.85, 9.76, 9.66, 9.56, 9.46, 9.36, 9.26, 9.16, 9.06, 8.97, 8.88, 8.79, 8.7, 8.61, 8.53, 8.45, 8.37, 8.28, 8.2, 8.12, 8.04, 7.96, 7.88, 7.8, 7.72, 7.65, 7.57, 7.49, 7.41, 7.34, 7.27, 7.19, 7.12, 7.05, 6.99, 6.92, 6.85, 6.79, 6.72, 6.65, 6.59, 6.52, 6.46, 6.39, 6.33, 6.27, 6.2, 6.14, 6.08, 6.02, 5.96, 5.9, 5.84, 5.79, 5.73, 5.68]\n",
      "[11.35, 11.23, 11.12, 11.01, 10.9, 10.79, 10.68, 10.57, 10.46, 10.35, 10.25, 10.14, 10.04, 9.94, 9.85, 9.76, 9.66, 9.56, 9.46, 9.36, 9.26, 9.16, 9.06, 8.97, 8.88, 8.79, 8.7, 8.61, 8.53, 8.45, 8.37, 8.28, 8.2, 8.12, 8.04, 7.96, 7.88, 7.8, 7.72, 7.65, 7.57, 7.49, 7.41, 7.34, 7.27, 7.19, 7.12, 7.05, 6.99, 6.92, 6.85, 6.79, 6.72, 6.65, 6.59, 6.52, 6.46, 6.39, 6.33, 6.27, 6.2, 6.14, 6.08, 6.02, 5.96, 5.9, 5.84, 5.79, 5.73]\n",
      "[11.36, 11.24, 11.13, 11.02, 10.91, 10.8, 10.69, 10.58, 10.47, 10.36, 10.25, 10.14, 10.04, 9.94, 9.85, 9.76, 9.66, 9.56, 9.46, 9.36, 9.26, 9.16, 9.06, 8.97, 8.88, 8.79, 8.7, 8.61, 8.53, 8.45, 8.37, 8.28, 8.2, 8.12, 8.04, 7.96, 7.88, 7.8, 7.72, 7.65, 7.57, 7.49, 7.41, 7.34, 7.27, 7.19, 7.12, 7.05, 6.99, 6.92, 6.85, 6.79, 6.72, 6.65, 6.59, 6.52, 6.46, 6.39, 6.33, 6.27, 6.2, 6.14, 6.08, 6.02, 5.96, 5.9, 5.84, 5.79, 5.73]\n",
      "[11.37, 11.25, 11.14, 11.03, 10.92, 10.81, 10.7, 10.59, 10.48, 10.37, 10.26, 10.15, 10.04, 9.94, 9.85, 9.76, 9.66, 9.56, 9.46, 9.36, 9.26, 9.16, 9.06, 8.97, 8.88, 8.79, 8.7, 8.61, 8.53, 8.45, 8.37, 8.28, 8.2, 8.12, 8.04, 7.96, 7.88, 7.8, 7.72, 7.65, 7.57, 7.49, 7.41, 7.34, 7.27, 7.19, 7.12, 7.05, 6.99, 6.92, 6.85, 6.79, 6.72, 6.65, 6.59, 6.52, 6.46, 6.39, 6.33, 6.27, 6.2, 6.14, 6.08, 6.02, 5.96, 5.9, 5.84, 5.79, 5.73]\n",
      "[11.38, 11.26, 11.14, 11.03, 10.92, 10.81, 10.7, 10.59, 10.48, 10.37, 10.26, 10.15, 10.04, 9.94, 9.85, 9.76, 9.66, 9.56, 9.46, 9.36, 9.26, 9.16, 9.06, 8.97, 8.88, 8.79, 8.7, 8.61, 8.53, 8.45, 8.37, 8.28, 8.2, 8.12, 8.04, 7.96, 7.88, 7.8, 7.72, 7.65, 7.57, 7.49, 7.41, 7.34, 7.27, 7.19, 7.12, 7.05, 6.99, 6.92, 6.85, 6.79, 6.72, 6.65, 6.59, 6.52, 6.46, 6.39, 6.33, 6.27, 6.2, 6.14, 6.08, 6.02, 5.96, 5.9, 5.84, 5.79, 5.73]\n",
      "[11.47, 11.35, 11.23, 11.12, 11.01, 10.9, 10.79, 10.68, 10.57, 10.46, 10.35, 10.25, 10.14, 10.04, 9.94, 9.85, 9.76, 9.66, 9.56, 9.46, 9.36, 9.26, 9.16, 9.06, 8.97, 8.88, 8.79, 8.7, 8.61, 8.53, 8.45, 8.37, 8.28, 8.2, 8.12, 8.04, 7.96, 7.88, 7.8, 7.72, 7.65, 7.57, 7.49, 7.41, 7.34, 7.27, 7.19, 7.12, 7.05, 6.99, 6.92, 6.85, 6.79, 6.72, 6.65, 6.59, 6.52, 6.46, 6.39, 6.33, 6.27, 6.2, 6.14, 6.08, 6.02, 5.96, 5.9, 5.84, 5.79]\n",
      "[11.48, 11.36, 11.24, 11.13, 11.02, 10.91, 10.8, 10.69, 10.58, 10.47, 10.36, 10.25, 10.14, 10.04, 9.94, 9.85, 9.76, 9.66, 9.56, 9.46, 9.36, 9.26, 9.16, 9.06, 8.97, 8.88, 8.79, 8.7, 8.61, 8.53, 8.45, 8.37, 8.28, 8.2, 8.12, 8.04, 7.96, 7.88, 7.8, 7.72, 7.65, 7.57, 7.49, 7.41, 7.34, 7.27, 7.19, 7.12, 7.05, 6.99, 6.92, 6.85, 6.79, 6.72, 6.65, 6.59, 6.52, 6.46, 6.39, 6.33, 6.27, 6.2, 6.14, 6.08, 6.02, 5.96, 5.9, 5.84, 5.79]\n",
      "[11.49, 11.37, 11.25, 11.14, 11.03, 10.92, 10.81, 10.7, 10.59, 10.48, 10.37, 10.26, 10.15, 10.04, 9.94, 9.85, 9.76, 9.66, 9.56, 9.46, 9.36, 9.26, 9.16, 9.06, 8.97, 8.88, 8.79, 8.7, 8.61, 8.53, 8.45, 8.37, 8.28, 8.2, 8.12, 8.04, 7.96, 7.88, 7.8, 7.72, 7.65, 7.57, 7.49, 7.41, 7.34, 7.27, 7.19, 7.12, 7.05, 6.99, 6.92, 6.85, 6.79, 6.72, 6.65, 6.59, 6.52, 6.46, 6.39, 6.33, 6.27, 6.2, 6.14, 6.08, 6.02, 5.96, 5.9, 5.84, 5.79]\n",
      "[11.58, 11.46, 11.34, 11.23, 11.12, 11.01, 10.9, 10.79, 10.68, 10.57, 10.46, 10.35, 10.25, 10.14, 10.04, 9.94, 9.85, 9.76, 9.66, 9.56, 9.46, 9.36, 9.26, 9.16, 9.06, 8.97, 8.88, 8.79, 8.7, 8.61, 8.53, 8.45, 8.37, 8.28, 8.2, 8.12, 8.04, 7.96, 7.88, 7.8, 7.72, 7.65, 7.57, 7.49, 7.41, 7.34, 7.27, 7.19, 7.12, 7.05, 6.99, 6.92, 6.85, 6.79, 6.72, 6.65, 6.59, 6.52, 6.46, 6.39, 6.33, 6.27, 6.2, 6.14, 6.08, 6.02, 5.96, 5.9, 5.84]\n",
      "[11.59, 11.47, 11.35, 11.23, 11.12, 11.01, 10.9, 10.79, 10.68, 10.57, 10.46, 10.35, 10.25, 10.14, 10.04, 9.94, 9.85, 9.76, 9.66, 9.56, 9.46, 9.36, 9.26, 9.16, 9.06, 8.97, 8.88, 8.79, 8.7, 8.61, 8.53, 8.45, 8.37, 8.28, 8.2, 8.12, 8.04, 7.96, 7.88, 7.8, 7.72, 7.65, 7.57, 7.49, 7.41, 7.34, 7.27, 7.19, 7.12, 7.05, 6.99, 6.92, 6.85, 6.79, 6.72, 6.65, 6.59, 6.52, 6.46, 6.39, 6.33, 6.27, 6.2, 6.14, 6.08, 6.02, 5.96, 5.9, 5.84]\n",
      "[11.61, 11.49, 11.37, 11.25, 11.14, 11.03, 10.92, 10.81, 10.7, 10.59, 10.48, 10.37, 10.26, 10.15, 10.04, 9.94, 9.85, 9.76, 9.66, 9.56, 9.46, 9.36, 9.26, 9.16, 9.06, 8.97, 8.88, 8.79, 8.7, 8.61, 8.53, 8.45, 8.37, 8.28, 8.2, 8.12, 8.04, 7.96, 7.88, 7.8, 7.72, 7.65, 7.57, 7.49, 7.41, 7.34, 7.27, 7.19, 7.12, 7.05, 6.99, 6.92, 6.85, 6.79, 6.72, 6.65, 6.59, 6.52, 6.46, 6.39, 6.33, 6.27, 6.2, 6.14, 6.08, 6.02, 5.96, 5.9, 5.84]\n",
      "[11.7, 11.58, 11.46, 11.34, 11.23, 11.12, 11.01, 10.9, 10.79, 10.68, 10.57, 10.46, 10.35, 10.25, 10.14, 10.04, 9.94, 9.85, 9.76, 9.66, 9.56, 9.46, 9.36, 9.26, 9.16, 9.06, 8.97, 8.88, 8.79, 8.7, 8.61, 8.53, 8.45, 8.37, 8.28, 8.2, 8.12, 8.04, 7.96, 7.88, 7.8, 7.72, 7.65, 7.57, 7.49, 7.41, 7.34, 7.27, 7.19, 7.12, 7.05, 6.99, 6.92, 6.85, 6.79, 6.72, 6.65, 6.59, 6.52, 6.46, 6.39, 6.33, 6.27, 6.2, 6.14, 6.08, 6.02, 5.96, 5.9]\n",
      "[11.72, 11.61, 11.49, 11.37, 11.25, 11.14, 11.03, 10.92, 10.81, 10.7, 10.59, 10.48, 10.37, 10.26, 10.15, 10.04, 9.94, 9.85, 9.76, 9.66, 9.56, 9.46, 9.36, 9.26, 9.16, 9.06, 8.97, 8.88, 8.79, 8.7, 8.61, 8.53, 8.45, 8.37, 8.28, 8.2, 8.12, 8.04, 7.96, 7.88, 7.8, 7.72, 7.65, 7.57, 7.49, 7.41, 7.34, 7.27, 7.19, 7.12, 7.05, 6.99, 6.92, 6.85, 6.79, 6.72, 6.65, 6.59, 6.52, 6.46, 6.39, 6.33, 6.27, 6.2, 6.14, 6.08, 6.02, 5.96, 5.9]\n",
      "[11.83, 11.72, 11.61, 11.49, 11.37, 11.25, 11.14, 11.03, 10.92, 10.81, 10.7, 10.59, 10.48, 10.37, 10.26, 10.15, 10.04, 9.94, 9.85, 9.76, 9.66, 9.56, 9.46, 9.36, 9.26, 9.16, 9.06, 8.97, 8.88, 8.79, 8.7, 8.61, 8.53, 8.45, 8.37, 8.28, 8.2, 8.12, 8.04, 7.96, 7.88, 7.8, 7.72, 7.65, 7.57, 7.49, 7.41, 7.34, 7.27, 7.19, 7.12, 7.05, 6.99, 6.92, 6.85, 6.79, 6.72, 6.65, 6.59, 6.52, 6.46, 6.39, 6.33, 6.27, 6.2, 6.14, 6.08, 6.02, 5.96]\n",
      "[11.83, 11.72, 11.61, 11.49, 11.37, 11.25, 11.14, 11.03, 10.92, 10.81, 10.7, 10.59, 10.48, 10.37, 10.26, 10.15, 10.04, 9.94, 9.85, 9.76, 9.66, 9.56, 9.46, 9.36, 9.26, 9.16, 9.06, 8.97, 8.88, 8.79, 8.7, 8.61, 8.53, 8.45, 8.37, 8.28, 8.2, 8.12, 8.04, 7.96, 7.88, 7.8, 7.72, 7.65, 7.57, 7.49, 7.41, 7.34, 7.27, 7.19, 7.12, 7.05, 6.99, 6.92, 6.85, 6.79, 6.72, 6.65, 6.59, 6.52, 6.46, 6.39, 6.33, 6.27, 6.2, 6.14, 6.08, 6.02, 5.96]\n",
      "[11.93, 11.81, 11.69, 11.57, 11.45, 11.34, 11.23, 11.12, 11.01, 10.9, 10.79, 10.68, 10.57, 10.46, 10.35, 10.25, 10.14, 10.04, 9.94, 9.85, 9.76, 9.66, 9.56, 9.46, 9.36, 9.26, 9.16, 9.06, 8.97, 8.88, 8.79, 8.7, 8.61, 8.53, 8.45, 8.37, 8.28, 8.2, 8.12, 8.04, 7.96, 7.88, 7.8, 7.72, 7.65, 7.57, 7.49, 7.41, 7.34, 7.27, 7.19, 7.12, 7.05, 6.99, 6.92, 6.85, 6.79, 6.72, 6.65, 6.59, 6.52, 6.46, 6.39, 6.33, 6.27, 6.2, 6.14, 6.08, 6.02]\n",
      "[11.95, 11.83, 11.72, 11.61, 11.49, 11.37, 11.25, 11.14, 11.03, 10.92, 10.81, 10.7, 10.59, 10.48, 10.37, 10.26, 10.15, 10.04, 9.94, 9.85, 9.76, 9.66, 9.56, 9.46, 9.36, 9.26, 9.16, 9.06, 8.97, 8.88, 8.79, 8.7, 8.61, 8.53, 8.45, 8.37, 8.28, 8.2, 8.12, 8.04, 7.96, 7.88, 7.8, 7.72, 7.65, 7.57, 7.49, 7.41, 7.34, 7.27, 7.19, 7.12, 7.05, 6.99, 6.92, 6.85, 6.79, 6.72, 6.65, 6.59, 6.52, 6.46, 6.39, 6.33, 6.27, 6.2, 6.14, 6.08, 6.02]\n",
      "[12.06, 11.93, 11.81, 11.69, 11.57, 11.45, 11.34, 11.23, 11.12, 11.01, 10.9, 10.79, 10.68, 10.57, 10.46, 10.35, 10.25, 10.14, 10.04, 9.94, 9.85, 9.76, 9.66, 9.56, 9.46, 9.36, 9.26, 9.16, 9.06, 8.97, 8.88, 8.79, 8.7, 8.61, 8.53, 8.45, 8.37, 8.28, 8.2, 8.12, 8.04, 7.96, 7.88, 7.8, 7.72, 7.65, 7.57, 7.49, 7.41, 7.34, 7.27, 7.19, 7.12, 7.05, 6.99, 6.92, 6.85, 6.79, 6.72, 6.65, 6.59, 6.52, 6.46, 6.39, 6.33, 6.27, 6.2, 6.14, 6.08]\n",
      "[12.07, 11.95, 11.83, 11.72, 11.61, 11.49, 11.37, 11.25, 11.14, 11.03, 10.92, 10.81, 10.7, 10.59, 10.48, 10.37, 10.26, 10.15, 10.04, 9.94, 9.85, 9.76, 9.66, 9.56, 9.46, 9.36, 9.26, 9.16, 9.06, 8.97, 8.88, 8.79, 8.7, 8.61, 8.53, 8.45, 8.37, 8.28, 8.2, 8.12, 8.04, 7.96, 7.88, 7.8, 7.72, 7.65, 7.57, 7.49, 7.41, 7.34, 7.27, 7.19, 7.12, 7.05, 6.99, 6.92, 6.85, 6.79, 6.72, 6.65, 6.59, 6.52, 6.46, 6.39, 6.33, 6.27, 6.2, 6.14, 6.08]\n",
      "[12.18, 12.06, 11.93, 11.81, 11.69, 11.57, 11.45, 11.34, 11.23, 11.12, 11.01, 10.9, 10.79, 10.68, 10.57, 10.46, 10.35, 10.25, 10.14, 10.04, 9.94, 9.85, 9.76, 9.66, 9.56, 9.46, 9.36, 9.26, 9.16, 9.06, 8.97, 8.88, 8.79, 8.7, 8.61, 8.53, 8.45, 8.37, 8.28, 8.2, 8.12, 8.04, 7.96, 7.88, 7.8, 7.72, 7.65, 7.57, 7.49, 7.41, 7.34, 7.27, 7.19, 7.12, 7.05, 6.99, 6.92, 6.85, 6.79, 6.72, 6.65, 6.59, 6.52, 6.46, 6.39, 6.33, 6.27, 6.2, 6.14]\n",
      "[12.19, 12.07, 11.95, 11.83, 11.72, 11.61, 11.49, 11.37, 11.25, 11.14, 11.03, 10.92, 10.81, 10.7, 10.59, 10.48, 10.37, 10.26, 10.15, 10.04, 9.94, 9.85, 9.76, 9.66, 9.56, 9.46, 9.36, 9.26, 9.16, 9.06, 8.97, 8.88, 8.79, 8.7, 8.61, 8.53, 8.45, 8.37, 8.28, 8.2, 8.12, 8.04, 7.96, 7.88, 7.8, 7.72, 7.65, 7.57, 7.49, 7.41, 7.34, 7.27, 7.19, 7.12, 7.05, 6.99, 6.92, 6.85, 6.79, 6.72, 6.65, 6.59, 6.52, 6.46, 6.39, 6.33, 6.27, 6.2, 6.14]\n",
      "[12.3, 12.18, 12.06, 11.93, 11.81, 11.69, 11.57, 11.45, 11.34, 11.23, 11.12, 11.01, 10.9, 10.79, 10.68, 10.57, 10.46, 10.35, 10.25, 10.14, 10.04, 9.94, 9.85, 9.76, 9.66, 9.56, 9.46, 9.36, 9.26, 9.16, 9.06, 8.97, 8.88, 8.79, 8.7, 8.61, 8.53, 8.45, 8.37, 8.28, 8.2, 8.12, 8.04, 7.96, 7.88, 7.8, 7.72, 7.65, 7.57, 7.49, 7.41, 7.34, 7.27, 7.19, 7.12, 7.05, 6.99, 6.92, 6.85, 6.79, 6.72, 6.65, 6.59, 6.52, 6.46, 6.39, 6.33, 6.27, 6.2]\n",
      "[12.31, 12.19, 12.07, 11.95, 11.83, 11.72, 11.61, 11.49, 11.37, 11.25, 11.14, 11.03, 10.92, 10.81, 10.7, 10.59, 10.48, 10.37, 10.26, 10.15, 10.04, 9.94, 9.85, 9.76, 9.66, 9.56, 9.46, 9.36, 9.26, 9.16, 9.06, 8.97, 8.88, 8.79, 8.7, 8.61, 8.53, 8.45, 8.37, 8.28, 8.2, 8.12, 8.04, 7.96, 7.88, 7.8, 7.72, 7.65, 7.57, 7.49, 7.41, 7.34, 7.27, 7.19, 7.12, 7.05, 6.99, 6.92, 6.85, 6.79, 6.72, 6.65, 6.59, 6.52, 6.46, 6.39, 6.33, 6.27, 6.2]\n",
      "[12.42, 12.3, 12.18, 12.06, 11.93, 11.81, 11.69, 11.57, 11.45, 11.34, 11.23, 11.12, 11.01, 10.9, 10.79, 10.68, 10.57, 10.46, 10.35, 10.25, 10.14, 10.04, 9.94, 9.85, 9.76, 9.66, 9.56, 9.46, 9.36, 9.26, 9.16, 9.06, 8.97, 8.88, 8.79, 8.7, 8.61, 8.53, 8.45, 8.37, 8.28, 8.2, 8.12, 8.04, 7.96, 7.88, 7.8, 7.72, 7.65, 7.57, 7.49, 7.41, 7.34, 7.27, 7.19, 7.12, 7.05, 6.99, 6.92, 6.85, 6.79, 6.72, 6.65, 6.59, 6.52, 6.46, 6.39, 6.33, 6.27]\n",
      "[12.43, 12.31, 12.19, 12.07, 11.95, 11.83, 11.72, 11.61, 11.49, 11.37, 11.25, 11.14, 11.03, 10.92, 10.81, 10.7, 10.59, 10.48, 10.37, 10.26, 10.15, 10.04, 9.94, 9.85, 9.76, 9.66, 9.56, 9.46, 9.36, 9.26, 9.16, 9.06, 8.97, 8.88, 8.79, 8.7, 8.61, 8.53, 8.45, 8.37, 8.28, 8.2, 8.12, 8.04, 7.96, 7.88, 7.8, 7.72, 7.65, 7.57, 7.49, 7.41, 7.34, 7.27, 7.19, 7.12, 7.05, 6.99, 6.92, 6.85, 6.79, 6.72, 6.65, 6.59, 6.52, 6.46, 6.39, 6.33, 6.27]\n",
      "[12.54, 12.42, 12.3, 12.18, 12.06, 11.93, 11.81, 11.69, 11.57, 11.45, 11.34, 11.23, 11.12, 11.01, 10.9, 10.79, 10.68, 10.57, 10.46, 10.35, 10.25, 10.14, 10.04, 9.94, 9.85, 9.76, 9.66, 9.56, 9.46, 9.36, 9.26, 9.16, 9.06, 8.97, 8.88, 8.79, 8.7, 8.61, 8.53, 8.45, 8.37, 8.28, 8.2, 8.12, 8.04, 7.96, 7.88, 7.8, 7.72, 7.65, 7.57, 7.49, 7.41, 7.34, 7.27, 7.19, 7.12, 7.05, 6.99, 6.92, 6.85, 6.79, 6.72, 6.65, 6.59, 6.52, 6.46, 6.39, 6.33]\n",
      "[12.55, 12.42, 12.3, 12.18, 12.06, 11.93, 11.81, 11.69, 11.57, 11.45, 11.34, 11.23, 11.12, 11.01, 10.9, 10.79, 10.68, 10.57, 10.46, 10.35, 10.25, 10.14, 10.04, 9.94, 9.85, 9.76, 9.66, 9.56, 9.46, 9.36, 9.26, 9.16, 9.06, 8.97, 8.88, 8.79, 8.7, 8.61, 8.53, 8.45, 8.37, 8.28, 8.2, 8.12, 8.04, 7.96, 7.88, 7.8, 7.72, 7.65, 7.57, 7.49, 7.41, 7.34, 7.27, 7.19, 7.12, 7.05, 6.99, 6.92, 6.85, 6.79, 6.72, 6.65, 6.59, 6.52, 6.46, 6.39, 6.33]\n",
      "[12.56, 12.43, 12.31, 12.19, 12.07, 11.95, 11.83, 11.72, 11.61, 11.49, 11.37, 11.25, 11.14, 11.03, 10.92, 10.81, 10.7, 10.59, 10.48, 10.37, 10.26, 10.15, 10.04, 9.94, 9.85, 9.76, 9.66, 9.56, 9.46, 9.36, 9.26, 9.16, 9.06, 8.97, 8.88, 8.79, 8.7, 8.61, 8.53, 8.45, 8.37, 8.28, 8.2, 8.12, 8.04, 7.96, 7.88, 7.8, 7.72, 7.65, 7.57, 7.49, 7.41, 7.34, 7.27, 7.19, 7.12, 7.05, 6.99, 6.92, 6.85, 6.79, 6.72, 6.65, 6.59, 6.52, 6.46, 6.39, 6.33]\n",
      "[12.66, 12.53, 12.41, 12.29, 12.17, 12.05, 11.93, 11.81, 11.69, 11.57, 11.45, 11.34, 11.23, 11.12, 11.01, 10.9, 10.79, 10.68, 10.57, 10.46, 10.35, 10.25, 10.14, 10.04, 9.94, 9.85, 9.76, 9.66, 9.56, 9.46, 9.36, 9.26, 9.16, 9.06, 8.97, 8.88, 8.79, 8.7, 8.61, 8.53, 8.45, 8.37, 8.28, 8.2, 8.12, 8.04, 7.96, 7.88, 7.8, 7.72, 7.65, 7.57, 7.49, 7.41, 7.34, 7.27, 7.19, 7.12, 7.05, 6.99, 6.92, 6.85, 6.79, 6.72, 6.65, 6.59, 6.52, 6.46, 6.39]\n",
      "[12.67, 12.54, 12.42, 12.3, 12.18, 12.06, 11.93, 11.81, 11.69, 11.57, 11.45, 11.34, 11.23, 11.12, 11.01, 10.9, 10.79, 10.68, 10.57, 10.46, 10.35, 10.25, 10.14, 10.04, 9.94, 9.85, 9.76, 9.66, 9.56, 9.46, 9.36, 9.26, 9.16, 9.06, 8.97, 8.88, 8.79, 8.7, 8.61, 8.53, 8.45, 8.37, 8.28, 8.2, 8.12, 8.04, 7.96, 7.88, 7.8, 7.72, 7.65, 7.57, 7.49, 7.41, 7.34, 7.27, 7.19, 7.12, 7.05, 6.99, 6.92, 6.85, 6.79, 6.72, 6.65, 6.59, 6.52, 6.46, 6.39]\n",
      "[12.68, 12.55, 12.42, 12.3, 12.18, 12.06, 11.93, 11.81, 11.69, 11.57, 11.45, 11.34, 11.23, 11.12, 11.01, 10.9, 10.79, 10.68, 10.57, 10.46, 10.35, 10.25, 10.14, 10.04, 9.94, 9.85, 9.76, 9.66, 9.56, 9.46, 9.36, 9.26, 9.16, 9.06, 8.97, 8.88, 8.79, 8.7, 8.61, 8.53, 8.45, 8.37, 8.28, 8.2, 8.12, 8.04, 7.96, 7.88, 7.8, 7.72, 7.65, 7.57, 7.49, 7.41, 7.34, 7.27, 7.19, 7.12, 7.05, 6.99, 6.92, 6.85, 6.79, 6.72, 6.65, 6.59, 6.52, 6.46, 6.39]\n",
      "[12.69, 12.56, 12.43, 12.31, 12.19, 12.07, 11.95, 11.83, 11.72, 11.61, 11.49, 11.37, 11.25, 11.14, 11.03, 10.92, 10.81, 10.7, 10.59, 10.48, 10.37, 10.26, 10.15, 10.04, 9.94, 9.85, 9.76, 9.66, 9.56, 9.46, 9.36, 9.26, 9.16, 9.06, 8.97, 8.88, 8.79, 8.7, 8.61, 8.53, 8.45, 8.37, 8.28, 8.2, 8.12, 8.04, 7.96, 7.88, 7.8, 7.72, 7.65, 7.57, 7.49, 7.41, 7.34, 7.27, 7.19, 7.12, 7.05, 6.99, 6.92, 6.85, 6.79, 6.72, 6.65, 6.59, 6.52, 6.46, 6.39]\n",
      "[12.81, 12.68, 12.55, 12.42, 12.3, 12.18, 12.06, 11.93, 11.81, 11.69, 11.57, 11.45, 11.34, 11.23, 11.12, 11.01, 10.9, 10.79, 10.68, 10.57, 10.46, 10.35, 10.25, 10.14, 10.04, 9.94, 9.85, 9.76, 9.66, 9.56, 9.46, 9.36, 9.26, 9.16, 9.06, 8.97, 8.88, 8.79, 8.7, 8.61, 8.53, 8.45, 8.37, 8.28, 8.2, 8.12, 8.04, 7.96, 7.88, 7.8, 7.72, 7.65, 7.57, 7.49, 7.41, 7.34, 7.27, 7.19, 7.12, 7.05, 6.99, 6.92, 6.85, 6.79, 6.72, 6.65, 6.59, 6.52, 6.46]\n",
      "[12.81, 12.68, 12.55, 12.42, 12.3, 12.18, 12.06, 11.93, 11.81, 11.69, 11.57, 11.45, 11.34, 11.23, 11.12, 11.01, 10.9, 10.79, 10.68, 10.57, 10.46, 10.35, 10.25, 10.14, 10.04, 9.94, 9.85, 9.76, 9.66, 9.56, 9.46, 9.36, 9.26, 9.16, 9.06, 8.97, 8.88, 8.79, 8.7, 8.61, 8.53, 8.45, 8.37, 8.28, 8.2, 8.12, 8.04, 7.96, 7.88, 7.8, 7.72, 7.65, 7.57, 7.49, 7.41, 7.34, 7.27, 7.19, 7.12, 7.05, 6.99, 6.92, 6.85, 6.79, 6.72, 6.65, 6.59, 6.52, 6.46]\n",
      "[12.93, 12.8, 12.67, 12.54, 12.42, 12.3, 12.18, 12.06, 11.93, 11.81, 11.69, 11.57, 11.45, 11.34, 11.23, 11.12, 11.01, 10.9, 10.79, 10.68, 10.57, 10.46, 10.35, 10.25, 10.14, 10.04, 9.94, 9.85, 9.76, 9.66, 9.56, 9.46, 9.36, 9.26, 9.16, 9.06, 8.97, 8.88, 8.79, 8.7, 8.61, 8.53, 8.45, 8.37, 8.28, 8.2, 8.12, 8.04, 7.96, 7.88, 7.8, 7.72, 7.65, 7.57, 7.49, 7.41, 7.34, 7.27, 7.19, 7.12, 7.05, 6.99, 6.92, 6.85, 6.79, 6.72, 6.65, 6.59, 6.52]\n",
      "[12.94, 12.81, 12.68, 12.55, 12.42, 12.3, 12.18, 12.06, 11.93, 11.81, 11.69, 11.57, 11.45, 11.34, 11.23, 11.12, 11.01, 10.9, 10.79, 10.68, 10.57, 10.46, 10.35, 10.25, 10.14, 10.04, 9.94, 9.85, 9.76, 9.66, 9.56, 9.46, 9.36, 9.26, 9.16, 9.06, 8.97, 8.88, 8.79, 8.7, 8.61, 8.53, 8.45, 8.37, 8.28, 8.2, 8.12, 8.04, 7.96, 7.88, 7.8, 7.72, 7.65, 7.57, 7.49, 7.41, 7.34, 7.27, 7.19, 7.12, 7.05, 6.99, 6.92, 6.85, 6.79, 6.72, 6.65, 6.59, 6.52]\n",
      "[12.95, 12.81, 12.68, 12.55, 12.42, 12.3, 12.18, 12.06, 11.93, 11.81, 11.69, 11.57, 11.45, 11.34, 11.23, 11.12, 11.01, 10.9, 10.79, 10.68, 10.57, 10.46, 10.35, 10.25, 10.14, 10.04, 9.94, 9.85, 9.76, 9.66, 9.56, 9.46, 9.36, 9.26, 9.16, 9.06, 8.97, 8.88, 8.79, 8.7, 8.61, 8.53, 8.45, 8.37, 8.28, 8.2, 8.12, 8.04, 7.96, 7.88, 7.8, 7.72, 7.65, 7.57, 7.49, 7.41, 7.34, 7.27, 7.19, 7.12, 7.05, 6.99, 6.92, 6.85, 6.79, 6.72, 6.65, 6.59, 6.52]\n",
      "[13.06, 12.93, 12.8, 12.67, 12.54, 12.42, 12.3, 12.18, 12.06, 11.93, 11.81, 11.69, 11.57, 11.45, 11.34, 11.23, 11.12, 11.01, 10.9, 10.79, 10.68, 10.57, 10.46, 10.35, 10.25, 10.14, 10.04, 9.94, 9.85, 9.76, 9.66, 9.56, 9.46, 9.36, 9.26, 9.16, 9.06, 8.97, 8.88, 8.79, 8.7, 8.61, 8.53, 8.45, 8.37, 8.28, 8.2, 8.12, 8.04, 7.96, 7.88, 7.8, 7.72, 7.65, 7.57, 7.49, 7.41, 7.34, 7.27, 7.19, 7.12, 7.05, 6.99, 6.92, 6.85, 6.79, 6.72, 6.65, 6.59]\n",
      "[13.07, 12.94, 12.81, 12.68, 12.55, 12.42, 12.3, 12.18, 12.06, 11.93, 11.81, 11.69, 11.57, 11.45, 11.34, 11.23, 11.12, 11.01, 10.9, 10.79, 10.68, 10.57, 10.46, 10.35, 10.25, 10.14, 10.04, 9.94, 9.85, 9.76, 9.66, 9.56, 9.46, 9.36, 9.26, 9.16, 9.06, 8.97, 8.88, 8.79, 8.7, 8.61, 8.53, 8.45, 8.37, 8.28, 8.2, 8.12, 8.04, 7.96, 7.88, 7.8, 7.72, 7.65, 7.57, 7.49, 7.41, 7.34, 7.27, 7.19, 7.12, 7.05, 6.99, 6.92, 6.85, 6.79, 6.72, 6.65, 6.59]\n",
      "[13.08, 12.95, 12.81, 12.68, 12.55, 12.42, 12.3, 12.18, 12.06, 11.93, 11.81, 11.69, 11.57, 11.45, 11.34, 11.23, 11.12, 11.01, 10.9, 10.79, 10.68, 10.57, 10.46, 10.35, 10.25, 10.14, 10.04, 9.94, 9.85, 9.76, 9.66, 9.56, 9.46, 9.36, 9.26, 9.16, 9.06, 8.97, 8.88, 8.79, 8.7, 8.61, 8.53, 8.45, 8.37, 8.28, 8.2, 8.12, 8.04, 7.96, 7.88, 7.8, 7.72, 7.65, 7.57, 7.49, 7.41, 7.34, 7.27, 7.19, 7.12, 7.05, 6.99, 6.92, 6.85, 6.79, 6.72, 6.65, 6.59]\n",
      "[13.18, 13.05, 12.91, 12.78, 12.65, 12.52, 12.4, 12.28, 12.16, 12.03, 11.91, 11.79, 11.67, 11.55, 11.43, 11.32, 11.21, 11.1, 10.99, 10.88, 10.77, 10.66, 10.55, 10.44, 10.34, 10.24, 10.14, 10.04, 9.94, 9.85, 9.76, 9.66, 9.56, 9.46, 9.36, 9.26, 9.16, 9.06, 8.97, 8.88, 8.79, 8.7, 8.61, 8.53, 8.45, 8.37, 8.28, 8.2, 8.12, 8.04, 7.96, 7.88, 7.8, 7.72, 7.65, 7.57, 7.49, 7.41, 7.34, 7.27, 7.19, 7.12, 7.05, 6.99, 6.92, 6.85, 6.79, 6.72, 6.65]\n",
      "[13.19, 13.06, 12.93, 12.8, 12.67, 12.54, 12.42, 12.3, 12.18, 12.06, 11.93, 11.81, 11.69, 11.57, 11.45, 11.34, 11.23, 11.12, 11.01, 10.9, 10.79, 10.68, 10.57, 10.46, 10.35, 10.25, 10.14, 10.04, 9.94, 9.85, 9.76, 9.66, 9.56, 9.46, 9.36, 9.26, 9.16, 9.06, 8.97, 8.88, 8.79, 8.7, 8.61, 8.53, 8.45, 8.37, 8.28, 8.2, 8.12, 8.04, 7.96, 7.88, 7.8, 7.72, 7.65, 7.57, 7.49, 7.41, 7.34, 7.27, 7.19, 7.12, 7.05, 6.99, 6.92, 6.85, 6.79, 6.72, 6.65]\n",
      "[13.2, 13.07, 12.94, 12.81, 12.68, 12.55, 12.42, 12.3, 12.18, 12.06, 11.93, 11.81, 11.69, 11.57, 11.45, 11.34, 11.23, 11.12, 11.01, 10.9, 10.79, 10.68, 10.57, 10.46, 10.35, 10.25, 10.14, 10.04, 9.94, 9.85, 9.76, 9.66, 9.56, 9.46, 9.36, 9.26, 9.16, 9.06, 8.97, 8.88, 8.79, 8.7, 8.61, 8.53, 8.45, 8.37, 8.28, 8.2, 8.12, 8.04, 7.96, 7.88, 7.8, 7.72, 7.65, 7.57, 7.49, 7.41, 7.34, 7.27, 7.19, 7.12, 7.05, 6.99, 6.92, 6.85, 6.79, 6.72, 6.65]\n",
      "[13.21, 13.08, 12.95, 12.81, 12.68, 12.55, 12.42, 12.3, 12.18, 12.06, 11.93, 11.81, 11.69, 11.57, 11.45, 11.34, 11.23, 11.12, 11.01, 10.9, 10.79, 10.68, 10.57, 10.46, 10.35, 10.25, 10.14, 10.04, 9.94, 9.85, 9.76, 9.66, 9.56, 9.46, 9.36, 9.26, 9.16, 9.06, 8.97, 8.88, 8.79, 8.7, 8.61, 8.53, 8.45, 8.37, 8.28, 8.2, 8.12, 8.04, 7.96, 7.88, 7.8, 7.72, 7.65, 7.57, 7.49, 7.41, 7.34, 7.27, 7.19, 7.12, 7.05, 6.99, 6.92, 6.85, 6.79, 6.72, 6.65]\n",
      "[13.21, 13.08, 12.95, 12.81, 12.68, 12.55, 12.42, 12.3, 12.18, 12.06, 11.93, 11.81, 11.69, 11.57, 11.45, 11.34, 11.23, 11.12, 11.01, 10.9, 10.79, 10.68, 10.57, 10.46, 10.35, 10.25, 10.14, 10.04, 9.94, 9.85, 9.76, 9.66, 9.56, 9.46, 9.36, 9.26, 9.16, 9.06, 8.97, 8.88, 8.79, 8.7, 8.61, 8.53, 8.45, 8.37, 8.28, 8.2, 8.12, 8.04, 7.96, 7.88, 7.8, 7.72, 7.65, 7.57, 7.49, 7.41, 7.34, 7.27, 7.19, 7.12, 7.05, 6.99, 6.92, 6.85, 6.79, 6.72, 6.65]\n",
      "[13.32, 13.19, 13.06, 12.93, 12.8, 12.67, 12.54, 12.42, 12.3, 12.18, 12.06, 11.93, 11.81, 11.69, 11.57, 11.45, 11.34, 11.23, 11.12, 11.01, 10.9, 10.79, 10.68, 10.57, 10.46, 10.35, 10.25, 10.14, 10.04, 9.94, 9.85, 9.76, 9.66, 9.56, 9.46, 9.36, 9.26, 9.16, 9.06, 8.97, 8.88, 8.79, 8.7, 8.61, 8.53, 8.45, 8.37, 8.28, 8.2, 8.12, 8.04, 7.96, 7.88, 7.8, 7.72, 7.65, 7.57, 7.49, 7.41, 7.34, 7.27, 7.19, 7.12, 7.05, 6.99, 6.92, 6.85, 6.79, 6.72]\n",
      "[13.33, 13.2, 13.07, 12.94, 12.81, 12.68, 12.55, 12.42, 12.3, 12.18, 12.06, 11.93, 11.81, 11.69, 11.57, 11.45, 11.34, 11.23, 11.12, 11.01, 10.9, 10.79, 10.68, 10.57, 10.46, 10.35, 10.25, 10.14, 10.04, 9.94, 9.85, 9.76, 9.66, 9.56, 9.46, 9.36, 9.26, 9.16, 9.06, 8.97, 8.88, 8.79, 8.7, 8.61, 8.53, 8.45, 8.37, 8.28, 8.2, 8.12, 8.04, 7.96, 7.88, 7.8, 7.72, 7.65, 7.57, 7.49, 7.41, 7.34, 7.27, 7.19, 7.12, 7.05, 6.99, 6.92, 6.85, 6.79, 6.72]\n",
      "[13.34, 13.21, 13.08, 12.95, 12.81, 12.68, 12.55, 12.42, 12.3, 12.18, 12.06, 11.93, 11.81, 11.69, 11.57, 11.45, 11.34, 11.23, 11.12, 11.01, 10.9, 10.79, 10.68, 10.57, 10.46, 10.35, 10.25, 10.14, 10.04, 9.94, 9.85, 9.76, 9.66, 9.56, 9.46, 9.36, 9.26, 9.16, 9.06, 8.97, 8.88, 8.79, 8.7, 8.61, 8.53, 8.45, 8.37, 8.28, 8.2, 8.12, 8.04, 7.96, 7.88, 7.8, 7.72, 7.65, 7.57, 7.49, 7.41, 7.34, 7.27, 7.19, 7.12, 7.05, 6.99, 6.92, 6.85, 6.79, 6.72]\n",
      "[13.35, 13.21, 13.08, 12.95, 12.81, 12.68, 12.55, 12.42, 12.3, 12.18, 12.06, 11.93, 11.81, 11.69, 11.57, 11.45, 11.34, 11.23, 11.12, 11.01, 10.9, 10.79, 10.68, 10.57, 10.46, 10.35, 10.25, 10.14, 10.04, 9.94, 9.85, 9.76, 9.66, 9.56, 9.46, 9.36, 9.26, 9.16, 9.06, 8.97, 8.88, 8.79, 8.7, 8.61, 8.53, 8.45, 8.37, 8.28, 8.2, 8.12, 8.04, 7.96, 7.88, 7.8, 7.72, 7.65, 7.57, 7.49, 7.41, 7.34, 7.27, 7.19, 7.12, 7.05, 6.99, 6.92, 6.85, 6.79, 6.72]\n",
      "[13.45, 13.32, 13.19, 13.06, 12.93, 12.8, 12.67, 12.54, 12.42, 12.3, 12.18, 12.06, 11.93, 11.81, 11.69, 11.57, 11.45, 11.34, 11.23, 11.12, 11.01, 10.9, 10.79, 10.68, 10.57, 10.46, 10.35, 10.25, 10.14, 10.04, 9.94, 9.85, 9.76, 9.66, 9.56, 9.46, 9.36, 9.26, 9.16, 9.06, 8.97, 8.88, 8.79, 8.7, 8.61, 8.53, 8.45, 8.37, 8.28, 8.2, 8.12, 8.04, 7.96, 7.88, 7.8, 7.72, 7.65, 7.57, 7.49, 7.41, 7.34, 7.27, 7.19, 7.12, 7.05, 6.99, 6.92, 6.85, 6.79]\n",
      "[13.46, 13.32, 13.19, 13.06, 12.93, 12.8, 12.67, 12.54, 12.42, 12.3, 12.18, 12.06, 11.93, 11.81, 11.69, 11.57, 11.45, 11.34, 11.23, 11.12, 11.01, 10.9, 10.79, 10.68, 10.57, 10.46, 10.35, 10.25, 10.14, 10.04, 9.94, 9.85, 9.76, 9.66, 9.56, 9.46, 9.36, 9.26, 9.16, 9.06, 8.97, 8.88, 8.79, 8.7, 8.61, 8.53, 8.45, 8.37, 8.28, 8.2, 8.12, 8.04, 7.96, 7.88, 7.8, 7.72, 7.65, 7.57, 7.49, 7.41, 7.34, 7.27, 7.19, 7.12, 7.05, 6.99, 6.92, 6.85, 6.79]\n",
      "[13.48, 13.34, 13.21, 13.08, 12.95, 12.81, 12.68, 12.55, 12.42, 12.3, 12.18, 12.06, 11.93, 11.81, 11.69, 11.57, 11.45, 11.34, 11.23, 11.12, 11.01, 10.9, 10.79, 10.68, 10.57, 10.46, 10.35, 10.25, 10.14, 10.04, 9.94, 9.85, 9.76, 9.66, 9.56, 9.46, 9.36, 9.26, 9.16, 9.06, 8.97, 8.88, 8.79, 8.7, 8.61, 8.53, 8.45, 8.37, 8.28, 8.2, 8.12, 8.04, 7.96, 7.88, 7.8, 7.72, 7.65, 7.57, 7.49, 7.41, 7.34, 7.27, 7.19, 7.12, 7.05, 6.99, 6.92, 6.85, 6.79]\n",
      "[13.49, 13.35, 13.21, 13.08, 12.95, 12.81, 12.68, 12.55, 12.42, 12.3, 12.18, 12.06, 11.93, 11.81, 11.69, 11.57, 11.45, 11.34, 11.23, 11.12, 11.01, 10.9, 10.79, 10.68, 10.57, 10.46, 10.35, 10.25, 10.14, 10.04, 9.94, 9.85, 9.76, 9.66, 9.56, 9.46, 9.36, 9.26, 9.16, 9.06, 8.97, 8.88, 8.79, 8.7, 8.61, 8.53, 8.45, 8.37, 8.28, 8.2, 8.12, 8.04, 7.96, 7.88, 7.8, 7.72, 7.65, 7.57, 7.49, 7.41, 7.34, 7.27, 7.19, 7.12, 7.05, 6.99, 6.92, 6.85, 6.79]\n",
      "[13.57, 13.43, 13.3, 13.17, 13.03, 12.9, 12.77, 12.64, 12.52, 12.4, 12.28, 12.16, 12.03, 11.91, 11.79, 11.67, 11.55, 11.43, 11.32, 11.21, 11.1, 10.99, 10.88, 10.77, 10.66, 10.55, 10.44, 10.34, 10.24, 10.14, 10.04, 9.94, 9.85, 9.76, 9.66, 9.56, 9.46, 9.36, 9.26, 9.16, 9.06, 8.97, 8.88, 8.79, 8.7, 8.61, 8.53, 8.45, 8.37, 8.28, 8.2, 8.12, 8.04, 7.96, 7.88, 7.8, 7.72, 7.65, 7.57, 7.49, 7.41, 7.34, 7.27, 7.19, 7.12, 7.05, 6.99, 6.92, 6.85]\n",
      "[13.59, 13.45, 13.32, 13.19, 13.06, 12.93, 12.8, 12.67, 12.54, 12.42, 12.3, 12.18, 12.06, 11.93, 11.81, 11.69, 11.57, 11.45, 11.34, 11.23, 11.12, 11.01, 10.9, 10.79, 10.68, 10.57, 10.46, 10.35, 10.25, 10.14, 10.04, 9.94, 9.85, 9.76, 9.66, 9.56, 9.46, 9.36, 9.26, 9.16, 9.06, 8.97, 8.88, 8.79, 8.7, 8.61, 8.53, 8.45, 8.37, 8.28, 8.2, 8.12, 8.04, 7.96, 7.88, 7.8, 7.72, 7.65, 7.57, 7.49, 7.41, 7.34, 7.27, 7.19, 7.12, 7.05, 6.99, 6.92, 6.85]\n",
      "[13.6, 13.46, 13.32, 13.19, 13.06, 12.93, 12.8, 12.67, 12.54, 12.42, 12.3, 12.18, 12.06, 11.93, 11.81, 11.69, 11.57, 11.45, 11.34, 11.23, 11.12, 11.01, 10.9, 10.79, 10.68, 10.57, 10.46, 10.35, 10.25, 10.14, 10.04, 9.94, 9.85, 9.76, 9.66, 9.56, 9.46, 9.36, 9.26, 9.16, 9.06, 8.97, 8.88, 8.79, 8.7, 8.61, 8.53, 8.45, 8.37, 8.28, 8.2, 8.12, 8.04, 7.96, 7.88, 7.8, 7.72, 7.65, 7.57, 7.49, 7.41, 7.34, 7.27, 7.19, 7.12, 7.05, 6.99, 6.92, 6.85]\n",
      "[13.61, 13.48, 13.34, 13.21, 13.08, 12.95, 12.81, 12.68, 12.55, 12.42, 12.3, 12.18, 12.06, 11.93, 11.81, 11.69, 11.57, 11.45, 11.34, 11.23, 11.12, 11.01, 10.9, 10.79, 10.68, 10.57, 10.46, 10.35, 10.25, 10.14, 10.04, 9.94, 9.85, 9.76, 9.66, 9.56, 9.46, 9.36, 9.26, 9.16, 9.06, 8.97, 8.88, 8.79, 8.7, 8.61, 8.53, 8.45, 8.37, 8.28, 8.2, 8.12, 8.04, 7.96, 7.88, 7.8, 7.72, 7.65, 7.57, 7.49, 7.41, 7.34, 7.27, 7.19, 7.12, 7.05, 6.99, 6.92, 6.85]\n",
      "[13.61, 13.48, 13.34, 13.21, 13.08, 12.95, 12.81, 12.68, 12.55, 12.42, 12.3, 12.18, 12.06, 11.93, 11.81, 11.69, 11.57, 11.45, 11.34, 11.23, 11.12, 11.01, 10.9, 10.79, 10.68, 10.57, 10.46, 10.35, 10.25, 10.14, 10.04, 9.94, 9.85, 9.76, 9.66, 9.56, 9.46, 9.36, 9.26, 9.16, 9.06, 8.97, 8.88, 8.79, 8.7, 8.61, 8.53, 8.45, 8.37, 8.28, 8.2, 8.12, 8.04, 7.96, 7.88, 7.8, 7.72, 7.65, 7.57, 7.49, 7.41, 7.34, 7.27, 7.19, 7.12, 7.05, 6.99, 6.92, 6.85]\n",
      "[13.62, 13.49, 13.35, 13.21, 13.08, 12.95, 12.81, 12.68, 12.55, 12.42, 12.3, 12.18, 12.06, 11.93, 11.81, 11.69, 11.57, 11.45, 11.34, 11.23, 11.12, 11.01, 10.9, 10.79, 10.68, 10.57, 10.46, 10.35, 10.25, 10.14, 10.04, 9.94, 9.85, 9.76, 9.66, 9.56, 9.46, 9.36, 9.26, 9.16, 9.06, 8.97, 8.88, 8.79, 8.7, 8.61, 8.53, 8.45, 8.37, 8.28, 8.2, 8.12, 8.04, 7.96, 7.88, 7.8, 7.72, 7.65, 7.57, 7.49, 7.41, 7.34, 7.27, 7.19, 7.12, 7.05, 6.99, 6.92, 6.85]\n",
      "[13.72, 13.59, 13.45, 13.32, 13.19, 13.06, 12.93, 12.8, 12.67, 12.54, 12.42, 12.3, 12.18, 12.06, 11.93, 11.81, 11.69, 11.57, 11.45, 11.34, 11.23, 11.12, 11.01, 10.9, 10.79, 10.68, 10.57, 10.46, 10.35, 10.25, 10.14, 10.04, 9.94, 9.85, 9.76, 9.66, 9.56, 9.46, 9.36, 9.26, 9.16, 9.06, 8.97, 8.88, 8.79, 8.7, 8.61, 8.53, 8.45, 8.37, 8.28, 8.2, 8.12, 8.04, 7.96, 7.88, 7.8, 7.72, 7.65, 7.57, 7.49, 7.41, 7.34, 7.27, 7.19, 7.12, 7.05, 6.99, 6.92]\n",
      "[13.73, 13.6, 13.46, 13.32, 13.19, 13.06, 12.93, 12.8, 12.67, 12.54, 12.42, 12.3, 12.18, 12.06, 11.93, 11.81, 11.69, 11.57, 11.45, 11.34, 11.23, 11.12, 11.01, 10.9, 10.79, 10.68, 10.57, 10.46, 10.35, 10.25, 10.14, 10.04, 9.94, 9.85, 9.76, 9.66, 9.56, 9.46, 9.36, 9.26, 9.16, 9.06, 8.97, 8.88, 8.79, 8.7, 8.61, 8.53, 8.45, 8.37, 8.28, 8.2, 8.12, 8.04, 7.96, 7.88, 7.8, 7.72, 7.65, 7.57, 7.49, 7.41, 7.34, 7.27, 7.19, 7.12, 7.05, 6.99, 6.92]\n",
      "[13.74, 13.61, 13.48, 13.34, 13.21, 13.08, 12.95, 12.81, 12.68, 12.55, 12.42, 12.3, 12.18, 12.06, 11.93, 11.81, 11.69, 11.57, 11.45, 11.34, 11.23, 11.12, 11.01, 10.9, 10.79, 10.68, 10.57, 10.46, 10.35, 10.25, 10.14, 10.04, 9.94, 9.85, 9.76, 9.66, 9.56, 9.46, 9.36, 9.26, 9.16, 9.06, 8.97, 8.88, 8.79, 8.7, 8.61, 8.53, 8.45, 8.37, 8.28, 8.2, 8.12, 8.04, 7.96, 7.88, 7.8, 7.72, 7.65, 7.57, 7.49, 7.41, 7.34, 7.27, 7.19, 7.12, 7.05, 6.99, 6.92]\n",
      "[13.75, 13.61, 13.48, 13.34, 13.21, 13.08, 12.95, 12.81, 12.68, 12.55, 12.42, 12.3, 12.18, 12.06, 11.93, 11.81, 11.69, 11.57, 11.45, 11.34, 11.23, 11.12, 11.01, 10.9, 10.79, 10.68, 10.57, 10.46, 10.35, 10.25, 10.14, 10.04, 9.94, 9.85, 9.76, 9.66, 9.56, 9.46, 9.36, 9.26, 9.16, 9.06, 8.97, 8.88, 8.79, 8.7, 8.61, 8.53, 8.45, 8.37, 8.28, 8.2, 8.12, 8.04, 7.96, 7.88, 7.8, 7.72, 7.65, 7.57, 7.49, 7.41, 7.34, 7.27, 7.19, 7.12, 7.05, 6.99, 6.92]\n",
      "[13.76, 13.62, 13.49, 13.35, 13.21, 13.08, 12.95, 12.81, 12.68, 12.55, 12.42, 12.3, 12.18, 12.06, 11.93, 11.81, 11.69, 11.57, 11.45, 11.34, 11.23, 11.12, 11.01, 10.9, 10.79, 10.68, 10.57, 10.46, 10.35, 10.25, 10.14, 10.04, 9.94, 9.85, 9.76, 9.66, 9.56, 9.46, 9.36, 9.26, 9.16, 9.06, 8.97, 8.88, 8.79, 8.7, 8.61, 8.53, 8.45, 8.37, 8.28, 8.2, 8.12, 8.04, 7.96, 7.88, 7.8, 7.72, 7.65, 7.57, 7.49, 7.41, 7.34, 7.27, 7.19, 7.12, 7.05, 6.99, 6.92]\n",
      "[13.85, 13.72, 13.59, 13.45, 13.32, 13.19, 13.06, 12.93, 12.8, 12.67, 12.54, 12.42, 12.3, 12.18, 12.06, 11.93, 11.81, 11.69, 11.57, 11.45, 11.34, 11.23, 11.12, 11.01, 10.9, 10.79, 10.68, 10.57, 10.46, 10.35, 10.25, 10.14, 10.04, 9.94, 9.85, 9.76, 9.66, 9.56, 9.46, 9.36, 9.26, 9.16, 9.06, 8.97, 8.88, 8.79, 8.7, 8.61, 8.53, 8.45, 8.37, 8.28, 8.2, 8.12, 8.04, 7.96, 7.88, 7.8, 7.72, 7.65, 7.57, 7.49, 7.41, 7.34, 7.27, 7.19, 7.12, 7.05, 6.99]\n",
      "[13.86, 13.72, 13.59, 13.45, 13.32, 13.19, 13.06, 12.93, 12.8, 12.67, 12.54, 12.42, 12.3, 12.18, 12.06, 11.93, 11.81, 11.69, 11.57, 11.45, 11.34, 11.23, 11.12, 11.01, 10.9, 10.79, 10.68, 10.57, 10.46, 10.35, 10.25, 10.14, 10.04, 9.94, 9.85, 9.76, 9.66, 9.56, 9.46, 9.36, 9.26, 9.16, 9.06, 8.97, 8.88, 8.79, 8.7, 8.61, 8.53, 8.45, 8.37, 8.28, 8.2, 8.12, 8.04, 7.96, 7.88, 7.8, 7.72, 7.65, 7.57, 7.49, 7.41, 7.34, 7.27, 7.19, 7.12, 7.05, 6.99]\n",
      "[13.87, 13.73, 13.6, 13.46, 13.32, 13.19, 13.06, 12.93, 12.8, 12.67, 12.54, 12.42, 12.3, 12.18, 12.06, 11.93, 11.81, 11.69, 11.57, 11.45, 11.34, 11.23, 11.12, 11.01, 10.9, 10.79, 10.68, 10.57, 10.46, 10.35, 10.25, 10.14, 10.04, 9.94, 9.85, 9.76, 9.66, 9.56, 9.46, 9.36, 9.26, 9.16, 9.06, 8.97, 8.88, 8.79, 8.7, 8.61, 8.53, 8.45, 8.37, 8.28, 8.2, 8.12, 8.04, 7.96, 7.88, 7.8, 7.72, 7.65, 7.57, 7.49, 7.41, 7.34, 7.27, 7.19, 7.12, 7.05, 6.99]\n",
      "[13.88, 13.74, 13.61, 13.48, 13.34, 13.21, 13.08, 12.95, 12.81, 12.68, 12.55, 12.42, 12.3, 12.18, 12.06, 11.93, 11.81, 11.69, 11.57, 11.45, 11.34, 11.23, 11.12, 11.01, 10.9, 10.79, 10.68, 10.57, 10.46, 10.35, 10.25, 10.14, 10.04, 9.94, 9.85, 9.76, 9.66, 9.56, 9.46, 9.36, 9.26, 9.16, 9.06, 8.97, 8.88, 8.79, 8.7, 8.61, 8.53, 8.45, 8.37, 8.28, 8.2, 8.12, 8.04, 7.96, 7.88, 7.8, 7.72, 7.65, 7.57, 7.49, 7.41, 7.34, 7.27, 7.19, 7.12, 7.05, 6.99]\n",
      "[13.89, 13.75, 13.61, 13.48, 13.34, 13.21, 13.08, 12.95, 12.81, 12.68, 12.55, 12.42, 12.3, 12.18, 12.06, 11.93, 11.81, 11.69, 11.57, 11.45, 11.34, 11.23, 11.12, 11.01, 10.9, 10.79, 10.68, 10.57, 10.46, 10.35, 10.25, 10.14, 10.04, 9.94, 9.85, 9.76, 9.66, 9.56, 9.46, 9.36, 9.26, 9.16, 9.06, 8.97, 8.88, 8.79, 8.7, 8.61, 8.53, 8.45, 8.37, 8.28, 8.2, 8.12, 8.04, 7.96, 7.88, 7.8, 7.72, 7.65, 7.57, 7.49, 7.41, 7.34, 7.27, 7.19, 7.12, 7.05, 6.99]\n",
      "[13.9, 13.76, 13.62, 13.49, 13.35, 13.21, 13.08, 12.95, 12.81, 12.68, 12.55, 12.42, 12.3, 12.18, 12.06, 11.93, 11.81, 11.69, 11.57, 11.45, 11.34, 11.23, 11.12, 11.01, 10.9, 10.79, 10.68, 10.57, 10.46, 10.35, 10.25, 10.14, 10.04, 9.94, 9.85, 9.76, 9.66, 9.56, 9.46, 9.36, 9.26, 9.16, 9.06, 8.97, 8.88, 8.79, 8.7, 8.61, 8.53, 8.45, 8.37, 8.28, 8.2, 8.12, 8.04, 7.96, 7.88, 7.8, 7.72, 7.65, 7.57, 7.49, 7.41, 7.34, 7.27, 7.19, 7.12, 7.05, 6.99]\n",
      "[13.9, 13.76, 13.62, 13.49, 13.35, 13.21, 13.08, 12.95, 12.81, 12.68, 12.55, 12.42, 12.3, 12.18, 12.06, 11.93, 11.81, 11.69, 11.57, 11.45, 11.34, 11.23, 11.12, 11.01, 10.9, 10.79, 10.68, 10.57, 10.46, 10.35, 10.25, 10.14, 10.04, 9.94, 9.85, 9.76, 9.66, 9.56, 9.46, 9.36, 9.26, 9.16, 9.06, 8.97, 8.88, 8.79, 8.7, 8.61, 8.53, 8.45, 8.37, 8.28, 8.2, 8.12, 8.04, 7.96, 7.88, 7.8, 7.72, 7.65, 7.57, 7.49, 7.41, 7.34, 7.27, 7.19, 7.12, 7.05, 6.99]\n",
      "[13.97, 13.83, 13.7, 13.56, 13.42, 13.29, 13.16, 13.02, 12.89, 12.76, 12.63, 12.51, 12.39, 12.27, 12.14, 12.02, 11.9, 11.78, 11.66, 11.54, 11.43, 11.32, 11.21, 11.1, 10.99, 10.88, 10.77, 10.66, 10.55, 10.44, 10.34, 10.24, 10.14, 10.04, 9.94, 9.85, 9.76, 9.66, 9.56, 9.46, 9.36, 9.26, 9.16, 9.06, 8.97, 8.88, 8.79, 8.7, 8.61, 8.53, 8.45, 8.37, 8.28, 8.2, 8.12, 8.04, 7.96, 7.88, 7.8, 7.72, 7.65, 7.57, 7.49, 7.41, 7.34, 7.27, 7.19, 7.12, 7.05]\n",
      "[13.98, 13.84, 13.71, 13.57, 13.43, 13.3, 13.17, 13.03, 12.9, 12.77, 12.64, 12.52, 12.4, 12.28, 12.16, 12.03, 11.91, 11.79, 11.67, 11.55, 11.43, 11.32, 11.21, 11.1, 10.99, 10.88, 10.77, 10.66, 10.55, 10.44, 10.34, 10.24, 10.14, 10.04, 9.94, 9.85, 9.76, 9.66, 9.56, 9.46, 9.36, 9.26, 9.16, 9.06, 8.97, 8.88, 8.79, 8.7, 8.61, 8.53, 8.45, 8.37, 8.28, 8.2, 8.12, 8.04, 7.96, 7.88, 7.8, 7.72, 7.65, 7.57, 7.49, 7.41, 7.34, 7.27, 7.19, 7.12, 7.05]\n",
      "[13.99, 13.85, 13.72, 13.59, 13.45, 13.32, 13.19, 13.06, 12.93, 12.8, 12.67, 12.54, 12.42, 12.3, 12.18, 12.06, 11.93, 11.81, 11.69, 11.57, 11.45, 11.34, 11.23, 11.12, 11.01, 10.9, 10.79, 10.68, 10.57, 10.46, 10.35, 10.25, 10.14, 10.04, 9.94, 9.85, 9.76, 9.66, 9.56, 9.46, 9.36, 9.26, 9.16, 9.06, 8.97, 8.88, 8.79, 8.7, 8.61, 8.53, 8.45, 8.37, 8.28, 8.2, 8.12, 8.04, 7.96, 7.88, 7.8, 7.72, 7.65, 7.57, 7.49, 7.41, 7.34, 7.27, 7.19, 7.12, 7.05]\n",
      "[14.0, 13.86, 13.72, 13.59, 13.45, 13.32, 13.19, 13.06, 12.93, 12.8, 12.67, 12.54, 12.42, 12.3, 12.18, 12.06, 11.93, 11.81, 11.69, 11.57, 11.45, 11.34, 11.23, 11.12, 11.01, 10.9, 10.79, 10.68, 10.57, 10.46, 10.35, 10.25, 10.14, 10.04, 9.94, 9.85, 9.76, 9.66, 9.56, 9.46, 9.36, 9.26, 9.16, 9.06, 8.97, 8.88, 8.79, 8.7, 8.61, 8.53, 8.45, 8.37, 8.28, 8.2, 8.12, 8.04, 7.96, 7.88, 7.8, 7.72, 7.65, 7.57, 7.49, 7.41, 7.34, 7.27, 7.19, 7.12, 7.05]\n",
      "[14.0, 13.86, 13.72, 13.59, 13.45, 13.32, 13.19, 13.06, 12.93, 12.8, 12.67, 12.54, 12.42, 12.3, 12.18, 12.06, 11.93, 11.81, 11.69, 11.57, 11.45, 11.34, 11.23, 11.12, 11.01, 10.9, 10.79, 10.68, 10.57, 10.46, 10.35, 10.25, 10.14, 10.04, 9.94, 9.85, 9.76, 9.66, 9.56, 9.46, 9.36, 9.26, 9.16, 9.06, 8.97, 8.88, 8.79, 8.7, 8.61, 8.53, 8.45, 8.37, 8.28, 8.2, 8.12, 8.04, 7.96, 7.88, 7.8, 7.72, 7.65, 7.57, 7.49, 7.41, 7.34, 7.27, 7.19, 7.12, 7.05]\n",
      "[14.01, 13.87, 13.73, 13.6, 13.46, 13.32, 13.19, 13.06, 12.93, 12.8, 12.67, 12.54, 12.42, 12.3, 12.18, 12.06, 11.93, 11.81, 11.69, 11.57, 11.45, 11.34, 11.23, 11.12, 11.01, 10.9, 10.79, 10.68, 10.57, 10.46, 10.35, 10.25, 10.14, 10.04, 9.94, 9.85, 9.76, 9.66, 9.56, 9.46, 9.36, 9.26, 9.16, 9.06, 8.97, 8.88, 8.79, 8.7, 8.61, 8.53, 8.45, 8.37, 8.28, 8.2, 8.12, 8.04, 7.96, 7.88, 7.8, 7.72, 7.65, 7.57, 7.49, 7.41, 7.34, 7.27, 7.19, 7.12, 7.05]\n",
      "[14.03, 13.89, 13.75, 13.61, 13.48, 13.34, 13.21, 13.08, 12.95, 12.81, 12.68, 12.55, 12.42, 12.3, 12.18, 12.06, 11.93, 11.81, 11.69, 11.57, 11.45, 11.34, 11.23, 11.12, 11.01, 10.9, 10.79, 10.68, 10.57, 10.46, 10.35, 10.25, 10.14, 10.04, 9.94, 9.85, 9.76, 9.66, 9.56, 9.46, 9.36, 9.26, 9.16, 9.06, 8.97, 8.88, 8.79, 8.7, 8.61, 8.53, 8.45, 8.37, 8.28, 8.2, 8.12, 8.04, 7.96, 7.88, 7.8, 7.72, 7.65, 7.57, 7.49, 7.41, 7.34, 7.27, 7.19, 7.12, 7.05]\n",
      "[14.04, 13.9, 13.76, 13.62, 13.49, 13.35, 13.21, 13.08, 12.95, 12.81, 12.68, 12.55, 12.42, 12.3, 12.18, 12.06, 11.93, 11.81, 11.69, 11.57, 11.45, 11.34, 11.23, 11.12, 11.01, 10.9, 10.79, 10.68, 10.57, 10.46, 10.35, 10.25, 10.14, 10.04, 9.94, 9.85, 9.76, 9.66, 9.56, 9.46, 9.36, 9.26, 9.16, 9.06, 8.97, 8.88, 8.79, 8.7, 8.61, 8.53, 8.45, 8.37, 8.28, 8.2, 8.12, 8.04, 7.96, 7.88, 7.8, 7.72, 7.65, 7.57, 7.49, 7.41, 7.34, 7.27, 7.19, 7.12, 7.05]\n",
      "[14.05, 13.9, 13.76, 13.62, 13.49, 13.35, 13.21, 13.08, 12.95, 12.81, 12.68, 12.55, 12.42, 12.3, 12.18, 12.06, 11.93, 11.81, 11.69, 11.57, 11.45, 11.34, 11.23, 11.12, 11.01, 10.9, 10.79, 10.68, 10.57, 10.46, 10.35, 10.25, 10.14, 10.04, 9.94, 9.85, 9.76, 9.66, 9.56, 9.46, 9.36, 9.26, 9.16, 9.06, 8.97, 8.88, 8.79, 8.7, 8.61, 8.53, 8.45, 8.37, 8.28, 8.2, 8.12, 8.04, 7.96, 7.88, 7.8, 7.72, 7.65, 7.57, 7.49, 7.41, 7.34, 7.27, 7.19, 7.12, 7.05]\n",
      "[14.11, 13.97, 13.83, 13.7, 13.56, 13.42, 13.29, 13.16, 13.02, 12.89, 12.76, 12.63, 12.51, 12.39, 12.27, 12.14, 12.02, 11.9, 11.78, 11.66, 11.54, 11.43, 11.32, 11.21, 11.1, 10.99, 10.88, 10.77, 10.66, 10.55, 10.44, 10.34, 10.24, 10.14, 10.04, 9.94, 9.85, 9.76, 9.66, 9.56, 9.46, 9.36, 9.26, 9.16, 9.06, 8.97, 8.88, 8.79, 8.7, 8.61, 8.53, 8.45, 8.37, 8.28, 8.2, 8.12, 8.04, 7.96, 7.88, 7.8, 7.72, 7.65, 7.57, 7.49, 7.41, 7.34, 7.27, 7.19, 7.12]\n",
      "[14.12, 13.98, 13.84, 13.71, 13.57, 13.43, 13.3, 13.17, 13.03, 12.9, 12.77, 12.64, 12.52, 12.4, 12.28, 12.16, 12.03, 11.91, 11.79, 11.67, 11.55, 11.43, 11.32, 11.21, 11.1, 10.99, 10.88, 10.77, 10.66, 10.55, 10.44, 10.34, 10.24, 10.14, 10.04, 9.94, 9.85, 9.76, 9.66, 9.56, 9.46, 9.36, 9.26, 9.16, 9.06, 8.97, 8.88, 8.79, 8.7, 8.61, 8.53, 8.45, 8.37, 8.28, 8.2, 8.12, 8.04, 7.96, 7.88, 7.8, 7.72, 7.65, 7.57, 7.49, 7.41, 7.34, 7.27, 7.19, 7.12]\n",
      "[14.13, 13.99, 13.85, 13.72, 13.59, 13.45, 13.32, 13.19, 13.06, 12.93, 12.8, 12.67, 12.54, 12.42, 12.3, 12.18, 12.06, 11.93, 11.81, 11.69, 11.57, 11.45, 11.34, 11.23, 11.12, 11.01, 10.9, 10.79, 10.68, 10.57, 10.46, 10.35, 10.25, 10.14, 10.04, 9.94, 9.85, 9.76, 9.66, 9.56, 9.46, 9.36, 9.26, 9.16, 9.06, 8.97, 8.88, 8.79, 8.7, 8.61, 8.53, 8.45, 8.37, 8.28, 8.2, 8.12, 8.04, 7.96, 7.88, 7.8, 7.72, 7.65, 7.57, 7.49, 7.41, 7.34, 7.27, 7.19, 7.12]\n",
      "[14.15, 14.0, 13.86, 13.72, 13.59, 13.45, 13.32, 13.19, 13.06, 12.93, 12.8, 12.67, 12.54, 12.42, 12.3, 12.18, 12.06, 11.93, 11.81, 11.69, 11.57, 11.45, 11.34, 11.23, 11.12, 11.01, 10.9, 10.79, 10.68, 10.57, 10.46, 10.35, 10.25, 10.14, 10.04, 9.94, 9.85, 9.76, 9.66, 9.56, 9.46, 9.36, 9.26, 9.16, 9.06, 8.97, 8.88, 8.79, 8.7, 8.61, 8.53, 8.45, 8.37, 8.28, 8.2, 8.12, 8.04, 7.96, 7.88, 7.8, 7.72, 7.65, 7.57, 7.49, 7.41, 7.34, 7.27, 7.19, 7.12]\n",
      "[14.16, 14.01, 13.87, 13.73, 13.6, 13.46, 13.32, 13.19, 13.06, 12.93, 12.8, 12.67, 12.54, 12.42, 12.3, 12.18, 12.06, 11.93, 11.81, 11.69, 11.57, 11.45, 11.34, 11.23, 11.12, 11.01, 10.9, 10.79, 10.68, 10.57, 10.46, 10.35, 10.25, 10.14, 10.04, 9.94, 9.85, 9.76, 9.66, 9.56, 9.46, 9.36, 9.26, 9.16, 9.06, 8.97, 8.88, 8.79, 8.7, 8.61, 8.53, 8.45, 8.37, 8.28, 8.2, 8.12, 8.04, 7.96, 7.88, 7.8, 7.72, 7.65, 7.57, 7.49, 7.41, 7.34, 7.27, 7.19, 7.12]\n",
      "[14.17, 14.03, 13.89, 13.75, 13.61, 13.48, 13.34, 13.21, 13.08, 12.95, 12.81, 12.68, 12.55, 12.42, 12.3, 12.18, 12.06, 11.93, 11.81, 11.69, 11.57, 11.45, 11.34, 11.23, 11.12, 11.01, 10.9, 10.79, 10.68, 10.57, 10.46, 10.35, 10.25, 10.14, 10.04, 9.94, 9.85, 9.76, 9.66, 9.56, 9.46, 9.36, 9.26, 9.16, 9.06, 8.97, 8.88, 8.79, 8.7, 8.61, 8.53, 8.45, 8.37, 8.28, 8.2, 8.12, 8.04, 7.96, 7.88, 7.8, 7.72, 7.65, 7.57, 7.49, 7.41, 7.34, 7.27, 7.19, 7.12]\n",
      "[14.18, 14.04, 13.9, 13.76, 13.62, 13.49, 13.35, 13.21, 13.08, 12.95, 12.81, 12.68, 12.55, 12.42, 12.3, 12.18, 12.06, 11.93, 11.81, 11.69, 11.57, 11.45, 11.34, 11.23, 11.12, 11.01, 10.9, 10.79, 10.68, 10.57, 10.46, 10.35, 10.25, 10.14, 10.04, 9.94, 9.85, 9.76, 9.66, 9.56, 9.46, 9.36, 9.26, 9.16, 9.06, 8.97, 8.88, 8.79, 8.7, 8.61, 8.53, 8.45, 8.37, 8.28, 8.2, 8.12, 8.04, 7.96, 7.88, 7.8, 7.72, 7.65, 7.57, 7.49, 7.41, 7.34, 7.27, 7.19, 7.12]\n",
      "[14.19, 14.05, 13.9, 13.76, 13.62, 13.49, 13.35, 13.21, 13.08, 12.95, 12.81, 12.68, 12.55, 12.42, 12.3, 12.18, 12.06, 11.93, 11.81, 11.69, 11.57, 11.45, 11.34, 11.23, 11.12, 11.01, 10.9, 10.79, 10.68, 10.57, 10.46, 10.35, 10.25, 10.14, 10.04, 9.94, 9.85, 9.76, 9.66, 9.56, 9.46, 9.36, 9.26, 9.16, 9.06, 8.97, 8.88, 8.79, 8.7, 8.61, 8.53, 8.45, 8.37, 8.28, 8.2, 8.12, 8.04, 7.96, 7.88, 7.8, 7.72, 7.65, 7.57, 7.49, 7.41, 7.34, 7.27, 7.19, 7.12]\n",
      "[14.25, 14.11, 13.97, 13.83, 13.7, 13.56, 13.42, 13.29, 13.16, 13.02, 12.89, 12.76, 12.63, 12.51, 12.39, 12.27, 12.14, 12.02, 11.9, 11.78, 11.66, 11.54, 11.43, 11.32, 11.21, 11.1, 10.99, 10.88, 10.77, 10.66, 10.55, 10.44, 10.34, 10.24, 10.14, 10.04, 9.94, 9.85, 9.76, 9.66, 9.56, 9.46, 9.36, 9.26, 9.16, 9.06, 8.97, 8.88, 8.79, 8.7, 8.61, 8.53, 8.45, 8.37, 8.28, 8.2, 8.12, 8.04, 7.96, 7.88, 7.8, 7.72, 7.65, 7.57, 7.49, 7.41, 7.34, 7.27, 7.19]\n",
      "[14.26, 14.11, 13.97, 13.83, 13.7, 13.56, 13.42, 13.29, 13.16, 13.02, 12.89, 12.76, 12.63, 12.51, 12.39, 12.27, 12.14, 12.02, 11.9, 11.78, 11.66, 11.54, 11.43, 11.32, 11.21, 11.1, 10.99, 10.88, 10.77, 10.66, 10.55, 10.44, 10.34, 10.24, 10.14, 10.04, 9.94, 9.85, 9.76, 9.66, 9.56, 9.46, 9.36, 9.26, 9.16, 9.06, 8.97, 8.88, 8.79, 8.7, 8.61, 8.53, 8.45, 8.37, 8.28, 8.2, 8.12, 8.04, 7.96, 7.88, 7.8, 7.72, 7.65, 7.57, 7.49, 7.41, 7.34, 7.27, 7.19]\n",
      "[14.27, 14.12, 13.98, 13.84, 13.71, 13.57, 13.43, 13.3, 13.17, 13.03, 12.9, 12.77, 12.64, 12.52, 12.4, 12.28, 12.16, 12.03, 11.91, 11.79, 11.67, 11.55, 11.43, 11.32, 11.21, 11.1, 10.99, 10.88, 10.77, 10.66, 10.55, 10.44, 10.34, 10.24, 10.14, 10.04, 9.94, 9.85, 9.76, 9.66, 9.56, 9.46, 9.36, 9.26, 9.16, 9.06, 8.97, 8.88, 8.79, 8.7, 8.61, 8.53, 8.45, 8.37, 8.28, 8.2, 8.12, 8.04, 7.96, 7.88, 7.8, 7.72, 7.65, 7.57, 7.49, 7.41, 7.34, 7.27, 7.19]\n",
      "[14.28, 14.13, 13.99, 13.85, 13.72, 13.59, 13.45, 13.32, 13.19, 13.06, 12.93, 12.8, 12.67, 12.54, 12.42, 12.3, 12.18, 12.06, 11.93, 11.81, 11.69, 11.57, 11.45, 11.34, 11.23, 11.12, 11.01, 10.9, 10.79, 10.68, 10.57, 10.46, 10.35, 10.25, 10.14, 10.04, 9.94, 9.85, 9.76, 9.66, 9.56, 9.46, 9.36, 9.26, 9.16, 9.06, 8.97, 8.88, 8.79, 8.7, 8.61, 8.53, 8.45, 8.37, 8.28, 8.2, 8.12, 8.04, 7.96, 7.88, 7.8, 7.72, 7.65, 7.57, 7.49, 7.41, 7.34, 7.27, 7.19]\n",
      "[14.29, 14.15, 14.0, 13.86, 13.72, 13.59, 13.45, 13.32, 13.19, 13.06, 12.93, 12.8, 12.67, 12.54, 12.42, 12.3, 12.18, 12.06, 11.93, 11.81, 11.69, 11.57, 11.45, 11.34, 11.23, 11.12, 11.01, 10.9, 10.79, 10.68, 10.57, 10.46, 10.35, 10.25, 10.14, 10.04, 9.94, 9.85, 9.76, 9.66, 9.56, 9.46, 9.36, 9.26, 9.16, 9.06, 8.97, 8.88, 8.79, 8.7, 8.61, 8.53, 8.45, 8.37, 8.28, 8.2, 8.12, 8.04, 7.96, 7.88, 7.8, 7.72, 7.65, 7.57, 7.49, 7.41, 7.34, 7.27, 7.19]\n",
      "[14.3, 14.16, 14.01, 13.87, 13.73, 13.6, 13.46, 13.32, 13.19, 13.06, 12.93, 12.8, 12.67, 12.54, 12.42, 12.3, 12.18, 12.06, 11.93, 11.81, 11.69, 11.57, 11.45, 11.34, 11.23, 11.12, 11.01, 10.9, 10.79, 10.68, 10.57, 10.46, 10.35, 10.25, 10.14, 10.04, 9.94, 9.85, 9.76, 9.66, 9.56, 9.46, 9.36, 9.26, 9.16, 9.06, 8.97, 8.88, 8.79, 8.7, 8.61, 8.53, 8.45, 8.37, 8.28, 8.2, 8.12, 8.04, 7.96, 7.88, 7.8, 7.72, 7.65, 7.57, 7.49, 7.41, 7.34, 7.27, 7.19]\n",
      "[14.3, 14.16, 14.01, 13.87, 13.73, 13.6, 13.46, 13.32, 13.19, 13.06, 12.93, 12.8, 12.67, 12.54, 12.42, 12.3, 12.18, 12.06, 11.93, 11.81, 11.69, 11.57, 11.45, 11.34, 11.23, 11.12, 11.01, 10.9, 10.79, 10.68, 10.57, 10.46, 10.35, 10.25, 10.14, 10.04, 9.94, 9.85, 9.76, 9.66, 9.56, 9.46, 9.36, 9.26, 9.16, 9.06, 8.97, 8.88, 8.79, 8.7, 8.61, 8.53, 8.45, 8.37, 8.28, 8.2, 8.12, 8.04, 7.96, 7.88, 7.8, 7.72, 7.65, 7.57, 7.49, 7.41, 7.34, 7.27, 7.19]\n",
      "[14.31, 14.17, 14.03, 13.89, 13.75, 13.61, 13.48, 13.34, 13.21, 13.08, 12.95, 12.81, 12.68, 12.55, 12.42, 12.3, 12.18, 12.06, 11.93, 11.81, 11.69, 11.57, 11.45, 11.34, 11.23, 11.12, 11.01, 10.9, 10.79, 10.68, 10.57, 10.46, 10.35, 10.25, 10.14, 10.04, 9.94, 9.85, 9.76, 9.66, 9.56, 9.46, 9.36, 9.26, 9.16, 9.06, 8.97, 8.88, 8.79, 8.7, 8.61, 8.53, 8.45, 8.37, 8.28, 8.2, 8.12, 8.04, 7.96, 7.88, 7.8, 7.72, 7.65, 7.57, 7.49, 7.41, 7.34, 7.27, 7.19]\n",
      "[14.32, 14.18, 14.04, 13.9, 13.76, 13.62, 13.49, 13.35, 13.21, 13.08, 12.95, 12.81, 12.68, 12.55, 12.42, 12.3, 12.18, 12.06, 11.93, 11.81, 11.69, 11.57, 11.45, 11.34, 11.23, 11.12, 11.01, 10.9, 10.79, 10.68, 10.57, 10.46, 10.35, 10.25, 10.14, 10.04, 9.94, 9.85, 9.76, 9.66, 9.56, 9.46, 9.36, 9.26, 9.16, 9.06, 8.97, 8.88, 8.79, 8.7, 8.61, 8.53, 8.45, 8.37, 8.28, 8.2, 8.12, 8.04, 7.96, 7.88, 7.8, 7.72, 7.65, 7.57, 7.49, 7.41, 7.34, 7.27, 7.19]\n",
      "[14.33, 14.19, 14.05, 13.9, 13.76, 13.62, 13.49, 13.35, 13.21, 13.08, 12.95, 12.81, 12.68, 12.55, 12.42, 12.3, 12.18, 12.06, 11.93, 11.81, 11.69, 11.57, 11.45, 11.34, 11.23, 11.12, 11.01, 10.9, 10.79, 10.68, 10.57, 10.46, 10.35, 10.25, 10.14, 10.04, 9.94, 9.85, 9.76, 9.66, 9.56, 9.46, 9.36, 9.26, 9.16, 9.06, 8.97, 8.88, 8.79, 8.7, 8.61, 8.53, 8.45, 8.37, 8.28, 8.2, 8.12, 8.04, 7.96, 7.88, 7.8, 7.72, 7.65, 7.57, 7.49, 7.41, 7.34, 7.27, 7.19]\n",
      "[14.4, 14.26, 14.11, 13.97, 13.83, 13.7, 13.56, 13.42, 13.29, 13.16, 13.02, 12.89, 12.76, 12.63, 12.51, 12.39, 12.27, 12.14, 12.02, 11.9, 11.78, 11.66, 11.54, 11.43, 11.32, 11.21, 11.1, 10.99, 10.88, 10.77, 10.66, 10.55, 10.44, 10.34, 10.24, 10.14, 10.04, 9.94, 9.85, 9.76, 9.66, 9.56, 9.46, 9.36, 9.26, 9.16, 9.06, 8.97, 8.88, 8.79, 8.7, 8.61, 8.53, 8.45, 8.37, 8.28, 8.2, 8.12, 8.04, 7.96, 7.88, 7.8, 7.72, 7.65, 7.57, 7.49, 7.41, 7.34, 7.27]\n",
      "[14.41, 14.27, 14.12, 13.98, 13.84, 13.71, 13.57, 13.43, 13.3, 13.17, 13.03, 12.9, 12.77, 12.64, 12.52, 12.4, 12.28, 12.16, 12.03, 11.91, 11.79, 11.67, 11.55, 11.43, 11.32, 11.21, 11.1, 10.99, 10.88, 10.77, 10.66, 10.55, 10.44, 10.34, 10.24, 10.14, 10.04, 9.94, 9.85, 9.76, 9.66, 9.56, 9.46, 9.36, 9.26, 9.16, 9.06, 8.97, 8.88, 8.79, 8.7, 8.61, 8.53, 8.45, 8.37, 8.28, 8.2, 8.12, 8.04, 7.96, 7.88, 7.8, 7.72, 7.65, 7.57, 7.49, 7.41, 7.34, 7.27]\n",
      "[14.42, 14.28, 14.13, 13.99, 13.85, 13.72, 13.59, 13.45, 13.32, 13.19, 13.06, 12.93, 12.8, 12.67, 12.54, 12.42, 12.3, 12.18, 12.06, 11.93, 11.81, 11.69, 11.57, 11.45, 11.34, 11.23, 11.12, 11.01, 10.9, 10.79, 10.68, 10.57, 10.46, 10.35, 10.25, 10.14, 10.04, 9.94, 9.85, 9.76, 9.66, 9.56, 9.46, 9.36, 9.26, 9.16, 9.06, 8.97, 8.88, 8.79, 8.7, 8.61, 8.53, 8.45, 8.37, 8.28, 8.2, 8.12, 8.04, 7.96, 7.88, 7.8, 7.72, 7.65, 7.57, 7.49, 7.41, 7.34, 7.27]\n",
      "[14.43, 14.29, 14.15, 14.0, 13.86, 13.72, 13.59, 13.45, 13.32, 13.19, 13.06, 12.93, 12.8, 12.67, 12.54, 12.42, 12.3, 12.18, 12.06, 11.93, 11.81, 11.69, 11.57, 11.45, 11.34, 11.23, 11.12, 11.01, 10.9, 10.79, 10.68, 10.57, 10.46, 10.35, 10.25, 10.14, 10.04, 9.94, 9.85, 9.76, 9.66, 9.56, 9.46, 9.36, 9.26, 9.16, 9.06, 8.97, 8.88, 8.79, 8.7, 8.61, 8.53, 8.45, 8.37, 8.28, 8.2, 8.12, 8.04, 7.96, 7.88, 7.8, 7.72, 7.65, 7.57, 7.49, 7.41, 7.34, 7.27]\n",
      "[14.44, 14.3, 14.16, 14.01, 13.87, 13.73, 13.6, 13.46, 13.32, 13.19, 13.06, 12.93, 12.8, 12.67, 12.54, 12.42, 12.3, 12.18, 12.06, 11.93, 11.81, 11.69, 11.57, 11.45, 11.34, 11.23, 11.12, 11.01, 10.9, 10.79, 10.68, 10.57, 10.46, 10.35, 10.25, 10.14, 10.04, 9.94, 9.85, 9.76, 9.66, 9.56, 9.46, 9.36, 9.26, 9.16, 9.06, 8.97, 8.88, 8.79, 8.7, 8.61, 8.53, 8.45, 8.37, 8.28, 8.2, 8.12, 8.04, 7.96, 7.88, 7.8, 7.72, 7.65, 7.57, 7.49, 7.41, 7.34, 7.27]\n",
      "[14.45, 14.31, 14.17, 14.03, 13.89, 13.75, 13.61, 13.48, 13.34, 13.21, 13.08, 12.95, 12.81, 12.68, 12.55, 12.42, 12.3, 12.18, 12.06, 11.93, 11.81, 11.69, 11.57, 11.45, 11.34, 11.23, 11.12, 11.01, 10.9, 10.79, 10.68, 10.57, 10.46, 10.35, 10.25, 10.14, 10.04, 9.94, 9.85, 9.76, 9.66, 9.56, 9.46, 9.36, 9.26, 9.16, 9.06, 8.97, 8.88, 8.79, 8.7, 8.61, 8.53, 8.45, 8.37, 8.28, 8.2, 8.12, 8.04, 7.96, 7.88, 7.8, 7.72, 7.65, 7.57, 7.49, 7.41, 7.34, 7.27]\n",
      "[14.47, 14.32, 14.18, 14.04, 13.9, 13.76, 13.62, 13.49, 13.35, 13.21, 13.08, 12.95, 12.81, 12.68, 12.55, 12.42, 12.3, 12.18, 12.06, 11.93, 11.81, 11.69, 11.57, 11.45, 11.34, 11.23, 11.12, 11.01, 10.9, 10.79, 10.68, 10.57, 10.46, 10.35, 10.25, 10.14, 10.04, 9.94, 9.85, 9.76, 9.66, 9.56, 9.46, 9.36, 9.26, 9.16, 9.06, 8.97, 8.88, 8.79, 8.7, 8.61, 8.53, 8.45, 8.37, 8.28, 8.2, 8.12, 8.04, 7.96, 7.88, 7.8, 7.72, 7.65, 7.57, 7.49, 7.41, 7.34, 7.27]\n",
      "[14.48, 14.33, 14.19, 14.05, 13.9, 13.76, 13.62, 13.49, 13.35, 13.21, 13.08, 12.95, 12.81, 12.68, 12.55, 12.42, 12.3, 12.18, 12.06, 11.93, 11.81, 11.69, 11.57, 11.45, 11.34, 11.23, 11.12, 11.01, 10.9, 10.79, 10.68, 10.57, 10.46, 10.35, 10.25, 10.14, 10.04, 9.94, 9.85, 9.76, 9.66, 9.56, 9.46, 9.36, 9.26, 9.16, 9.06, 8.97, 8.88, 8.79, 8.7, 8.61, 8.53, 8.45, 8.37, 8.28, 8.2, 8.12, 8.04, 7.96, 7.88, 7.8, 7.72, 7.65, 7.57, 7.49, 7.41, 7.34, 7.27]\n",
      "[14.55, 14.4, 14.26, 14.11, 13.97, 13.83, 13.7, 13.56, 13.42, 13.29, 13.16, 13.02, 12.89, 12.76, 12.63, 12.51, 12.39, 12.27, 12.14, 12.02, 11.9, 11.78, 11.66, 11.54, 11.43, 11.32, 11.21, 11.1, 10.99, 10.88, 10.77, 10.66, 10.55, 10.44, 10.34, 10.24, 10.14, 10.04, 9.94, 9.85, 9.76, 9.66, 9.56, 9.46, 9.36, 9.26, 9.16, 9.06, 8.97, 8.88, 8.79, 8.7, 8.61, 8.53, 8.45, 8.37, 8.28, 8.2, 8.12, 8.04, 7.96, 7.88, 7.8, 7.72, 7.65, 7.57, 7.49, 7.41, 7.34]\n",
      "[14.56, 14.41, 14.27, 14.12, 13.98, 13.84, 13.71, 13.57, 13.43, 13.3, 13.17, 13.03, 12.9, 12.77, 12.64, 12.52, 12.4, 12.28, 12.16, 12.03, 11.91, 11.79, 11.67, 11.55, 11.43, 11.32, 11.21, 11.1, 10.99, 10.88, 10.77, 10.66, 10.55, 10.44, 10.34, 10.24, 10.14, 10.04, 9.94, 9.85, 9.76, 9.66, 9.56, 9.46, 9.36, 9.26, 9.16, 9.06, 8.97, 8.88, 8.79, 8.7, 8.61, 8.53, 8.45, 8.37, 8.28, 8.2, 8.12, 8.04, 7.96, 7.88, 7.8, 7.72, 7.65, 7.57, 7.49, 7.41, 7.34]\n",
      "[14.58, 14.43, 14.29, 14.15, 14.0, 13.86, 13.72, 13.59, 13.45, 13.32, 13.19, 13.06, 12.93, 12.8, 12.67, 12.54, 12.42, 12.3, 12.18, 12.06, 11.93, 11.81, 11.69, 11.57, 11.45, 11.34, 11.23, 11.12, 11.01, 10.9, 10.79, 10.68, 10.57, 10.46, 10.35, 10.25, 10.14, 10.04, 9.94, 9.85, 9.76, 9.66, 9.56, 9.46, 9.36, 9.26, 9.16, 9.06, 8.97, 8.88, 8.79, 8.7, 8.61, 8.53, 8.45, 8.37, 8.28, 8.2, 8.12, 8.04, 7.96, 7.88, 7.8, 7.72, 7.65, 7.57, 7.49, 7.41, 7.34]\n",
      "[14.59, 14.44, 14.3, 14.16, 14.01, 13.87, 13.73, 13.6, 13.46, 13.32, 13.19, 13.06, 12.93, 12.8, 12.67, 12.54, 12.42, 12.3, 12.18, 12.06, 11.93, 11.81, 11.69, 11.57, 11.45, 11.34, 11.23, 11.12, 11.01, 10.9, 10.79, 10.68, 10.57, 10.46, 10.35, 10.25, 10.14, 10.04, 9.94, 9.85, 9.76, 9.66, 9.56, 9.46, 9.36, 9.26, 9.16, 9.06, 8.97, 8.88, 8.79, 8.7, 8.61, 8.53, 8.45, 8.37, 8.28, 8.2, 8.12, 8.04, 7.96, 7.88, 7.8, 7.72, 7.65, 7.57, 7.49, 7.41, 7.34]\n",
      "[14.6, 14.45, 14.31, 14.17, 14.03, 13.89, 13.75, 13.61, 13.48, 13.34, 13.21, 13.08, 12.95, 12.81, 12.68, 12.55, 12.42, 12.3, 12.18, 12.06, 11.93, 11.81, 11.69, 11.57, 11.45, 11.34, 11.23, 11.12, 11.01, 10.9, 10.79, 10.68, 10.57, 10.46, 10.35, 10.25, 10.14, 10.04, 9.94, 9.85, 9.76, 9.66, 9.56, 9.46, 9.36, 9.26, 9.16, 9.06, 8.97, 8.88, 8.79, 8.7, 8.61, 8.53, 8.45, 8.37, 8.28, 8.2, 8.12, 8.04, 7.96, 7.88, 7.8, 7.72, 7.65, 7.57, 7.49, 7.41, 7.34]\n",
      "[14.6, 14.45, 14.31, 14.17, 14.03, 13.89, 13.75, 13.61, 13.48, 13.34, 13.21, 13.08, 12.95, 12.81, 12.68, 12.55, 12.42, 12.3, 12.18, 12.06, 11.93, 11.81, 11.69, 11.57, 11.45, 11.34, 11.23, 11.12, 11.01, 10.9, 10.79, 10.68, 10.57, 10.46, 10.35, 10.25, 10.14, 10.04, 9.94, 9.85, 9.76, 9.66, 9.56, 9.46, 9.36, 9.26, 9.16, 9.06, 8.97, 8.88, 8.79, 8.7, 8.61, 8.53, 8.45, 8.37, 8.28, 8.2, 8.12, 8.04, 7.96, 7.88, 7.8, 7.72, 7.65, 7.57, 7.49, 7.41, 7.34]\n",
      "[14.61, 14.47, 14.32, 14.18, 14.04, 13.9, 13.76, 13.62, 13.49, 13.35, 13.21, 13.08, 12.95, 12.81, 12.68, 12.55, 12.42, 12.3, 12.18, 12.06, 11.93, 11.81, 11.69, 11.57, 11.45, 11.34, 11.23, 11.12, 11.01, 10.9, 10.79, 10.68, 10.57, 10.46, 10.35, 10.25, 10.14, 10.04, 9.94, 9.85, 9.76, 9.66, 9.56, 9.46, 9.36, 9.26, 9.16, 9.06, 8.97, 8.88, 8.79, 8.7, 8.61, 8.53, 8.45, 8.37, 8.28, 8.2, 8.12, 8.04, 7.96, 7.88, 7.8, 7.72, 7.65, 7.57, 7.49, 7.41, 7.34]\n",
      "[14.62, 14.48, 14.33, 14.19, 14.05, 13.9, 13.76, 13.62, 13.49, 13.35, 13.21, 13.08, 12.95, 12.81, 12.68, 12.55, 12.42, 12.3, 12.18, 12.06, 11.93, 11.81, 11.69, 11.57, 11.45, 11.34, 11.23, 11.12, 11.01, 10.9, 10.79, 10.68, 10.57, 10.46, 10.35, 10.25, 10.14, 10.04, 9.94, 9.85, 9.76, 9.66, 9.56, 9.46, 9.36, 9.26, 9.16, 9.06, 8.97, 8.88, 8.79, 8.7, 8.61, 8.53, 8.45, 8.37, 8.28, 8.2, 8.12, 8.04, 7.96, 7.88, 7.8, 7.72, 7.65, 7.57, 7.49, 7.41, 7.34]\n",
      "[14.69, 14.54, 14.4, 14.26, 14.11, 13.97, 13.83, 13.7, 13.56, 13.42, 13.29, 13.16, 13.02, 12.89, 12.76, 12.63, 12.51, 12.39, 12.27, 12.14, 12.02, 11.9, 11.78, 11.66, 11.54, 11.43, 11.32, 11.21, 11.1, 10.99, 10.88, 10.77, 10.66, 10.55, 10.44, 10.34, 10.24, 10.14, 10.04, 9.94, 9.85, 9.76, 9.66, 9.56, 9.46, 9.36, 9.26, 9.16, 9.06, 8.97, 8.88, 8.79, 8.7, 8.61, 8.53, 8.45, 8.37, 8.28, 8.2, 8.12, 8.04, 7.96, 7.88, 7.8, 7.72, 7.65, 7.57, 7.49, 7.41]\n",
      "[14.7, 14.55, 14.4, 14.26, 14.11, 13.97, 13.83, 13.7, 13.56, 13.42, 13.29, 13.16, 13.02, 12.89, 12.76, 12.63, 12.51, 12.39, 12.27, 12.14, 12.02, 11.9, 11.78, 11.66, 11.54, 11.43, 11.32, 11.21, 11.1, 10.99, 10.88, 10.77, 10.66, 10.55, 10.44, 10.34, 10.24, 10.14, 10.04, 9.94, 9.85, 9.76, 9.66, 9.56, 9.46, 9.36, 9.26, 9.16, 9.06, 8.97, 8.88, 8.79, 8.7, 8.61, 8.53, 8.45, 8.37, 8.28, 8.2, 8.12, 8.04, 7.96, 7.88, 7.8, 7.72, 7.65, 7.57, 7.49, 7.41]\n",
      "[14.71, 14.56, 14.41, 14.27, 14.12, 13.98, 13.84, 13.71, 13.57, 13.43, 13.3, 13.17, 13.03, 12.9, 12.77, 12.64, 12.52, 12.4, 12.28, 12.16, 12.03, 11.91, 11.79, 11.67, 11.55, 11.43, 11.32, 11.21, 11.1, 10.99, 10.88, 10.77, 10.66, 10.55, 10.44, 10.34, 10.24, 10.14, 10.04, 9.94, 9.85, 9.76, 9.66, 9.56, 9.46, 9.36, 9.26, 9.16, 9.06, 8.97, 8.88, 8.79, 8.7, 8.61, 8.53, 8.45, 8.37, 8.28, 8.2, 8.12, 8.04, 7.96, 7.88, 7.8, 7.72, 7.65, 7.57, 7.49, 7.41]\n",
      "[14.71, 14.56, 14.41, 14.27, 14.12, 13.98, 13.84, 13.71, 13.57, 13.43, 13.3, 13.17, 13.03, 12.9, 12.77, 12.64, 12.52, 12.4, 12.28, 12.16, 12.03, 11.91, 11.79, 11.67, 11.55, 11.43, 11.32, 11.21, 11.1, 10.99, 10.88, 10.77, 10.66, 10.55, 10.44, 10.34, 10.24, 10.14, 10.04, 9.94, 9.85, 9.76, 9.66, 9.56, 9.46, 9.36, 9.26, 9.16, 9.06, 8.97, 8.88, 8.79, 8.7, 8.61, 8.53, 8.45, 8.37, 8.28, 8.2, 8.12, 8.04, 7.96, 7.88, 7.8, 7.72, 7.65, 7.57, 7.49, 7.41]\n",
      "[14.72, 14.58, 14.43, 14.29, 14.15, 14.0, 13.86, 13.72, 13.59, 13.45, 13.32, 13.19, 13.06, 12.93, 12.8, 12.67, 12.54, 12.42, 12.3, 12.18, 12.06, 11.93, 11.81, 11.69, 11.57, 11.45, 11.34, 11.23, 11.12, 11.01, 10.9, 10.79, 10.68, 10.57, 10.46, 10.35, 10.25, 10.14, 10.04, 9.94, 9.85, 9.76, 9.66, 9.56, 9.46, 9.36, 9.26, 9.16, 9.06, 8.97, 8.88, 8.79, 8.7, 8.61, 8.53, 8.45, 8.37, 8.28, 8.2, 8.12, 8.04, 7.96, 7.88, 7.8, 7.72, 7.65, 7.57, 7.49, 7.41]\n",
      "[14.73, 14.59, 14.44, 14.3, 14.16, 14.01, 13.87, 13.73, 13.6, 13.46, 13.32, 13.19, 13.06, 12.93, 12.8, 12.67, 12.54, 12.42, 12.3, 12.18, 12.06, 11.93, 11.81, 11.69, 11.57, 11.45, 11.34, 11.23, 11.12, 11.01, 10.9, 10.79, 10.68, 10.57, 10.46, 10.35, 10.25, 10.14, 10.04, 9.94, 9.85, 9.76, 9.66, 9.56, 9.46, 9.36, 9.26, 9.16, 9.06, 8.97, 8.88, 8.79, 8.7, 8.61, 8.53, 8.45, 8.37, 8.28, 8.2, 8.12, 8.04, 7.96, 7.88, 7.8, 7.72, 7.65, 7.57, 7.49, 7.41]\n",
      "[14.74, 14.6, 14.45, 14.31, 14.17, 14.03, 13.89, 13.75, 13.61, 13.48, 13.34, 13.21, 13.08, 12.95, 12.81, 12.68, 12.55, 12.42, 12.3, 12.18, 12.06, 11.93, 11.81, 11.69, 11.57, 11.45, 11.34, 11.23, 11.12, 11.01, 10.9, 10.79, 10.68, 10.57, 10.46, 10.35, 10.25, 10.14, 10.04, 9.94, 9.85, 9.76, 9.66, 9.56, 9.46, 9.36, 9.26, 9.16, 9.06, 8.97, 8.88, 8.79, 8.7, 8.61, 8.53, 8.45, 8.37, 8.28, 8.2, 8.12, 8.04, 7.96, 7.88, 7.8, 7.72, 7.65, 7.57, 7.49, 7.41]\n",
      "[14.75, 14.6, 14.45, 14.31, 14.17, 14.03, 13.89, 13.75, 13.61, 13.48, 13.34, 13.21, 13.08, 12.95, 12.81, 12.68, 12.55, 12.42, 12.3, 12.18, 12.06, 11.93, 11.81, 11.69, 11.57, 11.45, 11.34, 11.23, 11.12, 11.01, 10.9, 10.79, 10.68, 10.57, 10.46, 10.35, 10.25, 10.14, 10.04, 9.94, 9.85, 9.76, 9.66, 9.56, 9.46, 9.36, 9.26, 9.16, 9.06, 8.97, 8.88, 8.79, 8.7, 8.61, 8.53, 8.45, 8.37, 8.28, 8.2, 8.12, 8.04, 7.96, 7.88, 7.8, 7.72, 7.65, 7.57, 7.49, 7.41]\n",
      "[14.76, 14.61, 14.47, 14.32, 14.18, 14.04, 13.9, 13.76, 13.62, 13.49, 13.35, 13.21, 13.08, 12.95, 12.81, 12.68, 12.55, 12.42, 12.3, 12.18, 12.06, 11.93, 11.81, 11.69, 11.57, 11.45, 11.34, 11.23, 11.12, 11.01, 10.9, 10.79, 10.68, 10.57, 10.46, 10.35, 10.25, 10.14, 10.04, 9.94, 9.85, 9.76, 9.66, 9.56, 9.46, 9.36, 9.26, 9.16, 9.06, 8.97, 8.88, 8.79, 8.7, 8.61, 8.53, 8.45, 8.37, 8.28, 8.2, 8.12, 8.04, 7.96, 7.88, 7.8, 7.72, 7.65, 7.57, 7.49, 7.41]\n",
      "[14.77, 14.62, 14.48, 14.33, 14.19, 14.05, 13.9, 13.76, 13.62, 13.49, 13.35, 13.21, 13.08, 12.95, 12.81, 12.68, 12.55, 12.42, 12.3, 12.18, 12.06, 11.93, 11.81, 11.69, 11.57, 11.45, 11.34, 11.23, 11.12, 11.01, 10.9, 10.79, 10.68, 10.57, 10.46, 10.35, 10.25, 10.14, 10.04, 9.94, 9.85, 9.76, 9.66, 9.56, 9.46, 9.36, 9.26, 9.16, 9.06, 8.97, 8.88, 8.79, 8.7, 8.61, 8.53, 8.45, 8.37, 8.28, 8.2, 8.12, 8.04, 7.96, 7.88, 7.8, 7.72, 7.65, 7.57, 7.49, 7.41]\n",
      "[14.84, 14.7, 14.55, 14.4, 14.26, 14.11, 13.97, 13.83, 13.7, 13.56, 13.42, 13.29, 13.16, 13.02, 12.89, 12.76, 12.63, 12.51, 12.39, 12.27, 12.14, 12.02, 11.9, 11.78, 11.66, 11.54, 11.43, 11.32, 11.21, 11.1, 10.99, 10.88, 10.77, 10.66, 10.55, 10.44, 10.34, 10.24, 10.14, 10.04, 9.94, 9.85, 9.76, 9.66, 9.56, 9.46, 9.36, 9.26, 9.16, 9.06, 8.97, 8.88, 8.79, 8.7, 8.61, 8.53, 8.45, 8.37, 8.28, 8.2, 8.12, 8.04, 7.96, 7.88, 7.8, 7.72, 7.65, 7.57, 7.49]\n",
      "[14.85, 14.71, 14.56, 14.41, 14.27, 14.12, 13.98, 13.84, 13.71, 13.57, 13.43, 13.3, 13.17, 13.03, 12.9, 12.77, 12.64, 12.52, 12.4, 12.28, 12.16, 12.03, 11.91, 11.79, 11.67, 11.55, 11.43, 11.32, 11.21, 11.1, 10.99, 10.88, 10.77, 10.66, 10.55, 10.44, 10.34, 10.24, 10.14, 10.04, 9.94, 9.85, 9.76, 9.66, 9.56, 9.46, 9.36, 9.26, 9.16, 9.06, 8.97, 8.88, 8.79, 8.7, 8.61, 8.53, 8.45, 8.37, 8.28, 8.2, 8.12, 8.04, 7.96, 7.88, 7.8, 7.72, 7.65, 7.57, 7.49]\n"
     ]
    }
   ],
   "source": [
    "for price in lowest_N:\n",
    "    print(store_prices[price])"
   ]
  }
 ],
 "metadata": {
  "kernelspec": {
   "display_name": "Python 3",
   "language": "python",
   "name": "python3"
  },
  "language_info": {
   "codemirror_mode": {
    "name": "ipython",
    "version": 3
   },
   "file_extension": ".py",
   "mimetype": "text/x-python",
   "name": "python",
   "nbconvert_exporter": "python",
   "pygments_lexer": "ipython3",
   "version": "3.7.4"
  }
 },
 "nbformat": 4,
 "nbformat_minor": 2
}
